{
 "cells": [
  {
   "cell_type": "markdown",
   "id": "2cc94755-0119-4768-8510-4ed34cca1ca4",
   "metadata": {},
   "source": [
    "# Constance de Salm #\n",
    "\n",
    "Extracting and generating Tweets for CdS. Twtteraccound: https://twitter.com/constancesalm\n",
    "\n",
    "Importing the needed libraries."
   ]
  },
  {
   "cell_type": "code",
   "execution_count": 1,
   "id": "e90ed171-1e19-4e27-b588-4fc35b756bea",
   "metadata": {},
   "outputs": [],
   "source": [
    "import pandas as pd\n",
    "import re\n",
    "import matplotlib.pyplot as plt\n",
    "import seaborn as sns"
   ]
  },
  {
   "cell_type": "markdown",
   "id": "14f543be-d8b4-4b0a-a79a-8eaf4d3acd69",
   "metadata": {
    "pycharm": {
     "name": "#%% md\n"
    }
   },
   "source": [
    "Loading the Dataset via pandas."
   ]
  },
  {
   "cell_type": "code",
   "execution_count": 2,
   "id": "67268c86",
   "metadata": {
    "collapsed": false,
    "jupyter": {
     "outputs_hidden": false
    },
    "pycharm": {
     "name": "#%%\n"
    }
   },
   "outputs": [
    {
     "name": "stdout",
     "output_type": "stream",
     "text": [
      "['FuD-Key', 'letzte Änderung', 'Dokumenttyp', 'URL', 'Nr.', 'Verfasser', 'GND (Verfasser)', 'VIAF (Verfasser)', ' Empfänger', 'GND (Empfänger)', 'VIAF (Empfänger)', 'Datierung (JJJJ-MM-TT)', 'Alternative Datierung', 'Ausstellungsort', 'Geonames (Ausstellungsort)', 'Empfangsort', 'Geonames (Empfangsort)', 'Vorlage', 'Vollständigkeit des Archivals', 'Erläuterung Unvollständigkeit', 'Umfang in Seiten', 'Anfang des Briefes', 'Inhaltliche Stichpunkte', 'Weitere Personen', 'GND (Weitere Personen)', 'VIAF (Weitere Personen)', 'Orte', 'Geonames (Orte)', 'Schlagwörter', 'Editionen', 'Vermerk', 'Bestand', 'Verweise', 'Digitalisate: Dateiname (Signatur)', 'Zitierempfehlung']\n"
     ]
    }
   ],
   "source": [
    "df = pd.read_csv(\"lib/20211116_Constance_de_Salm_Korrespondenz_Inventar_Briefe.csv\", sep=';', encoding='utf8')\n",
    "print(list(df))"
   ]
  },
  {
   "cell_type": "markdown",
   "id": "5964b470",
   "metadata": {
    "pycharm": {
     "name": "#%% md\n"
    }
   },
   "source": [
    "Extracting just the letters which were by Constance de Salm herself."
   ]
  },
  {
   "cell_type": "code",
   "execution_count": 3,
   "id": "96d161c2-4d97-46db-a75d-79ef1345e31c",
   "metadata": {},
   "outputs": [],
   "source": [
    "\n",
    "df_cds = pd.DataFrame(columns=list(df))\n",
    "for i, v in df.iterrows():\n",
    "    if type(v[\"Verfasser\"]) is not str: continue\n",
    "    if re.search(r'.*Constance.*', v[\"Verfasser\"]):\n",
    "        df_cds = df_cds.append(v, ignore_index=True)"
   ]
  },
  {
   "cell_type": "markdown",
   "id": "df7533fd",
   "metadata": {
    "pycharm": {
     "name": "#%% md\n"
    }
   },
   "source": [
    "## Generating the tweets ##\n",
    "How many Tweets can be used for the Twitter-Account (based on the length, which is limited by Twitter [280])\n"
   ]
  },
  {
   "cell_type": "code",
   "execution_count": 4,
   "id": "00b3cc74",
   "metadata": {
    "collapsed": false,
    "jupyter": {
     "outputs_hidden": false
    },
    "pycharm": {
     "name": "#%%\n"
    }
   },
   "outputs": [
    {
     "name": "stdout",
     "output_type": "stream",
     "text": [
      "2764 Tweets are shorter then 280 chars.\n"
     ]
    }
   ],
   "source": [
    "length = []\n",
    "long_tweets = []\n",
    "for i, v in df_cds.iterrows():\n",
    "    tweet = '\"{0}...\" à {1}, {2} ({3})'.format(v[\"Anfang des Briefes\"],\n",
    "                                            v[\" Empfänger\"],\n",
    "                                            v[\"Datierung (JJJJ-MM-TT)\"],\n",
    "                                            v[\"URL\"]).replace('\\n', '').replace('\\t', '')\n",
    "    length.append(len(tweet))\n",
    "    if len(tweet) > 280:\n",
    "        long_tweets.append(tweet)\n",
    "print(\"{} Tweets are shorter then 280 chars.\".format(len(list(filter(lambda x: x<=280, length)))))"
   ]
  },
  {
   "cell_type": "code",
   "execution_count": 5,
   "id": "d361950c",
   "metadata": {
    "collapsed": false,
    "jupyter": {
     "outputs_hidden": false
    },
    "pycharm": {
     "name": "#%%\n"
    }
   },
   "outputs": [],
   "source": [
    "import numpy as np\n",
    "\n",
    "def generate_next_day(d, m, y):\n",
    "    months = {1: 31, 2:28, 3: 31, 4: 30, 5: 31, 6: 30, 7: 31, 8: 31, 9: 30, 10: 31, 11: 30, 12: 31}\n",
    "    d = d + 1\n",
    "    if d > months[m]:\n",
    "        d = 1\n",
    "        m +=1\n",
    "        if m > 12:\n",
    "            m = 1\n",
    "            y += 1\n",
    "    return y, m, d\n",
    "\n",
    "tweets_df = pd.DataFrame(columns=[\"Date\", \"Time\", \"Tweet\", \"Picture\", \"Longitude\", \"Lattitude\"])\n",
    "geo_data = pd.read_csv(\"lib/CdS_Places.csv\", encoding=\"utf8\", index_col='id')\n",
    "\n",
    "day = (2021, 11, 26)\n",
    "change = 0\n",
    "for i, v in df_cds.iterrows():\n",
    "    row = {}\n",
    "    tweet = '\"{0}\" à {1}, {2} ({3})'.format(str(v[\"Anfang des Briefes\"]),\n",
    "                                            v[\" Empfänger\"].split(', ')[0] if type(v[\" Empfänger\"]) is str else 'N.N.',\n",
    "                                            v[\"Datierung (JJJJ-MM-TT)\"],\n",
    "                                            v[\"URL\"])\n",
    "    if len(tweet) > 280: continue\n",
    "    row[\"Tweet\"] = tweet\n",
    "    row[\"Date\"] = \"{}.{}.{}\".format(day[2], day[1], day[0])\n",
    "    time_tweet = \"\"\n",
    "    h = np.random.randint(7, 21)\n",
    "    m = np.random.randint(0, 59)\n",
    "    s = np.random.randint(0, 59)\n",
    "    h = str(h) if len(str(h)) == 2 else \"0\" + str(h)\n",
    "    m = str(m) if len(str(m)) == 2 else \"0\" + str(m)\n",
    "    s = str(s) if len(str(s)) == 2 else \"0\" + str(s)\n",
    "    row[\"Time\"] = \"{}:{}:{}\".format(h, m, s)\n",
    "    geo_information = geo_data.loc[geo_data.url == v['Geonames (Ausstellungsort)']]\n",
    "    try:\n",
    "        row[\"Longitude\"] = geo_information.iloc[0]['long']\n",
    "        row[\"Lattitude\"] = geo_information.iloc[0]['lat']\n",
    "    except IndexError:\n",
    "        True\n",
    "    if change == 1:\n",
    "        day = generate_next_day(day[2], day[1], day[0])\n",
    "        change = 0\n",
    "    else:\n",
    "        change += 1\n",
    "    tweets_df = tweets_df.append(row, ignore_index=True)"
   ]
  },
  {
   "cell_type": "code",
   "execution_count": 6,
   "id": "249c1c5c",
   "metadata": {
    "collapsed": false,
    "jupyter": {
     "outputs_hidden": false
    },
    "pycharm": {
     "name": "#%%\n"
    }
   },
   "outputs": [
    {
     "data": {
      "text/plain": "            Date      Time                                              Tweet  \\\n0     26.11.2021  13:48:58  \"Cher et excellent voisin, j'ai remis de jour ...   \n1     26.11.2021  19:23:51  \"Je vais retourner à Paris dans 15 jours, Mons...   \n2     27.11.2021  13:18:29  \"Nous avons bien regretté, Monsieur, de ne pas...   \n3     27.11.2021  08:04:42  \"Je ne vous ai pas encore écrit, Monsieur,\" à ...   \n4     28.11.2021  12:31:00  \"Je ne serai jamais embarrassée, Monsieur, qua...   \n...          ...       ...                                                ...   \n2804   29.9.2025  18:33:34  \"Je n’entends point parler de vous, Monsieur, ...   \n2805   29.9.2025  19:17:15  \"Vous aurez peut-être été surpris, Monsieur, d...   \n2806   30.9.2025  07:30:31  \"Je reçois à l'instant votre lettre de la camp...   \n2807   30.9.2025  14:06:00  \"J’ai bien tardé à répondre à votre dernière l...   \n2808   1.10.2025  09:04:45  \"J'arrive d'Aix-la-Chapelle, Monsieur, où, com...   \n\n      Picture  Longitude  Lattitude  \n0         NaN    6.50000   51.10000  \n1         NaN    6.50000   51.10000  \n2         NaN    6.50000   51.10000  \n3         NaN    6.50000   51.10000  \n4         NaN        NaN        NaN  \n...       ...        ...        ...  \n2804      NaN    6.50000   51.10000  \n2805      NaN    6.08342   50.77664  \n2806      NaN    6.50000   51.10000  \n2807      NaN        NaN        NaN  \n2808      NaN    6.50000   51.10000  \n\n[2809 rows x 6 columns]",
      "text/html": "<div>\n<style scoped>\n    .dataframe tbody tr th:only-of-type {\n        vertical-align: middle;\n    }\n\n    .dataframe tbody tr th {\n        vertical-align: top;\n    }\n\n    .dataframe thead th {\n        text-align: right;\n    }\n</style>\n<table border=\"1\" class=\"dataframe\">\n  <thead>\n    <tr style=\"text-align: right;\">\n      <th></th>\n      <th>Date</th>\n      <th>Time</th>\n      <th>Tweet</th>\n      <th>Picture</th>\n      <th>Longitude</th>\n      <th>Lattitude</th>\n    </tr>\n  </thead>\n  <tbody>\n    <tr>\n      <th>0</th>\n      <td>26.11.2021</td>\n      <td>13:48:58</td>\n      <td>\"Cher et excellent voisin, j'ai remis de jour ...</td>\n      <td>NaN</td>\n      <td>6.50000</td>\n      <td>51.10000</td>\n    </tr>\n    <tr>\n      <th>1</th>\n      <td>26.11.2021</td>\n      <td>19:23:51</td>\n      <td>\"Je vais retourner à Paris dans 15 jours, Mons...</td>\n      <td>NaN</td>\n      <td>6.50000</td>\n      <td>51.10000</td>\n    </tr>\n    <tr>\n      <th>2</th>\n      <td>27.11.2021</td>\n      <td>13:18:29</td>\n      <td>\"Nous avons bien regretté, Monsieur, de ne pas...</td>\n      <td>NaN</td>\n      <td>6.50000</td>\n      <td>51.10000</td>\n    </tr>\n    <tr>\n      <th>3</th>\n      <td>27.11.2021</td>\n      <td>08:04:42</td>\n      <td>\"Je ne vous ai pas encore écrit, Monsieur,\" à ...</td>\n      <td>NaN</td>\n      <td>6.50000</td>\n      <td>51.10000</td>\n    </tr>\n    <tr>\n      <th>4</th>\n      <td>28.11.2021</td>\n      <td>12:31:00</td>\n      <td>\"Je ne serai jamais embarrassée, Monsieur, qua...</td>\n      <td>NaN</td>\n      <td>NaN</td>\n      <td>NaN</td>\n    </tr>\n    <tr>\n      <th>...</th>\n      <td>...</td>\n      <td>...</td>\n      <td>...</td>\n      <td>...</td>\n      <td>...</td>\n      <td>...</td>\n    </tr>\n    <tr>\n      <th>2804</th>\n      <td>29.9.2025</td>\n      <td>18:33:34</td>\n      <td>\"Je n’entends point parler de vous, Monsieur, ...</td>\n      <td>NaN</td>\n      <td>6.50000</td>\n      <td>51.10000</td>\n    </tr>\n    <tr>\n      <th>2805</th>\n      <td>29.9.2025</td>\n      <td>19:17:15</td>\n      <td>\"Vous aurez peut-être été surpris, Monsieur, d...</td>\n      <td>NaN</td>\n      <td>6.08342</td>\n      <td>50.77664</td>\n    </tr>\n    <tr>\n      <th>2806</th>\n      <td>30.9.2025</td>\n      <td>07:30:31</td>\n      <td>\"Je reçois à l'instant votre lettre de la camp...</td>\n      <td>NaN</td>\n      <td>6.50000</td>\n      <td>51.10000</td>\n    </tr>\n    <tr>\n      <th>2807</th>\n      <td>30.9.2025</td>\n      <td>14:06:00</td>\n      <td>\"J’ai bien tardé à répondre à votre dernière l...</td>\n      <td>NaN</td>\n      <td>NaN</td>\n      <td>NaN</td>\n    </tr>\n    <tr>\n      <th>2808</th>\n      <td>1.10.2025</td>\n      <td>09:04:45</td>\n      <td>\"J'arrive d'Aix-la-Chapelle, Monsieur, où, com...</td>\n      <td>NaN</td>\n      <td>6.50000</td>\n      <td>51.10000</td>\n    </tr>\n  </tbody>\n</table>\n<p>2809 rows × 6 columns</p>\n</div>"
     },
     "execution_count": 6,
     "metadata": {},
     "output_type": "execute_result"
    }
   ],
   "source": [
    "tweets_df"
   ]
  },
  {
   "cell_type": "code",
   "execution_count": 7,
   "id": "582cda32",
   "metadata": {
    "collapsed": false,
    "jupyter": {
     "outputs_hidden": false
    },
    "pycharm": {
     "name": "#%%\n"
    }
   },
   "outputs": [],
   "source": [
    "tweets_df.to_excel(\"lib/Lettre_de_CdS.xlsx\", encoding=\"utf8\")\n",
    "tweets_df.to_csv(\"lib/Lettre_de_CdS.tsv\", encoding=\"utf8\", sep=\"\\t\")"
   ]
  },
  {
   "cell_type": "markdown",
   "source": [
    "## Creating Flashcards\n",
    "We start now with the Creation of the Flashcards based on the script found in the directory \"flash_cards\".\n",
    "The cards will be saved into the directory: \"flash_cards_png\"."
   ],
   "metadata": {
    "collapsed": false,
    "pycharm": {
     "name": "#%% md\n"
    }
   }
  },
  {
   "cell_type": "code",
   "execution_count": 8,
   "outputs": [
    {
     "name": "stdout",
     "output_type": "stream",
     "text": [
      "\t\t\t<tspan class=\"TextPosition\" x=\"3150\"> Voulez-vous bien, Monsieur, me</tspan>\n",
      "\t\t\t<tspan class=\"TextPosition\" x=\"3150\" dy=\"1.2em\">rendre un petit service: je vais vous</tspan>\n",
      "\t\t\t<tspan class=\"TextPosition\" x=\"3150\" dy=\"1.2em\">expliquer d'abord, et en détail, de</tspan>\n",
      "\t\t\t<tspan class=\"TextPosition\" x=\"3150\" dy=\"1.2em\">quoi il s'agit, afin de n'avoir plus à y</tspan>\n",
      "\t\t\t<tspan class=\"TextPosition\" x=\"3150\" dy=\"1.2em\">penser et de pouvoir répondre</tspan>\n",
      "\t\t\t<tspan class=\"TextPosition\" x=\"3150\" dy=\"1.2em\">tranquillement à votre lettre. ...</tspan>\n",
      "\n",
      "('FrutigerNextCondensed', True)\n"
     ]
    },
    {
     "name": "stderr",
     "output_type": "stream",
     "text": [
      "Warn: Can't find .pfb for face 'Times-Roman'\n"
     ]
    },
    {
     "ename": "RenderPMError",
     "evalue": "Can't setFont(Times-Roman) missing the T1 files?\nOriginally <class 'TypeError'>: makeT1Font() argument 2 must be str, not None",
     "output_type": "error",
     "traceback": [
      "\u001B[0;31m---------------------------------------------------------------------------\u001B[0m",
      "\u001B[0;31mValueError\u001B[0m                                Traceback (most recent call last)",
      "\u001B[0;32m/usr/lib/python3/dist-packages/reportlab/graphics/renderPM.py\u001B[0m in \u001B[0;36m_setFont\u001B[0;34m(gs, fontName, fontSize)\u001B[0m\n\u001B[1;32m    241\u001B[0m     \u001B[0;32mtry\u001B[0m\u001B[0;34m:\u001B[0m\u001B[0;34m\u001B[0m\u001B[0;34m\u001B[0m\u001B[0m\n\u001B[0;32m--> 242\u001B[0;31m         \u001B[0mgs\u001B[0m\u001B[0;34m.\u001B[0m\u001B[0msetFont\u001B[0m\u001B[0;34m(\u001B[0m\u001B[0mfontName\u001B[0m\u001B[0;34m,\u001B[0m\u001B[0mfontSize\u001B[0m\u001B[0;34m)\u001B[0m\u001B[0;34m\u001B[0m\u001B[0;34m\u001B[0m\u001B[0m\n\u001B[0m\u001B[1;32m    243\u001B[0m     \u001B[0;32mexcept\u001B[0m \u001B[0mValueError\u001B[0m \u001B[0;32mas\u001B[0m \u001B[0me\u001B[0m\u001B[0;34m:\u001B[0m\u001B[0;34m\u001B[0m\u001B[0;34m\u001B[0m\u001B[0m\n",
      "\u001B[0;31mValueError\u001B[0m: _renderPM.gstate_setFont: Can't find font!",
      "\nDuring handling of the above exception, another exception occurred:\n",
      "\u001B[0;31mTypeError\u001B[0m                                 Traceback (most recent call last)",
      "\u001B[0;32m/usr/lib/python3/dist-packages/reportlab/graphics/renderPM.py\u001B[0m in \u001B[0;36m_setFont\u001B[0;34m(gs, fontName, fontSize)\u001B[0m\n\u001B[1;32m    247\u001B[0m             \u001B[0mf\u001B[0m \u001B[0;34m=\u001B[0m \u001B[0mgetFont\u001B[0m\u001B[0;34m(\u001B[0m\u001B[0mfontName\u001B[0m\u001B[0;34m)\u001B[0m\u001B[0;34m\u001B[0m\u001B[0;34m\u001B[0m\u001B[0m\n\u001B[0;32m--> 248\u001B[0;31m             \u001B[0m_renderPM\u001B[0m\u001B[0;34m.\u001B[0m\u001B[0mmakeT1Font\u001B[0m\u001B[0;34m(\u001B[0m\u001B[0mfontName\u001B[0m\u001B[0;34m,\u001B[0m\u001B[0mf\u001B[0m\u001B[0;34m.\u001B[0m\u001B[0mface\u001B[0m\u001B[0;34m.\u001B[0m\u001B[0mfindT1File\u001B[0m\u001B[0;34m(\u001B[0m\u001B[0;34m)\u001B[0m\u001B[0;34m,\u001B[0m\u001B[0mf\u001B[0m\u001B[0;34m.\u001B[0m\u001B[0mencoding\u001B[0m\u001B[0;34m.\u001B[0m\u001B[0mvector\u001B[0m\u001B[0;34m,\u001B[0m\u001B[0mopen_and_read\u001B[0m\u001B[0;34m)\u001B[0m\u001B[0;34m\u001B[0m\u001B[0;34m\u001B[0m\u001B[0m\n\u001B[0m\u001B[1;32m    249\u001B[0m         \u001B[0;32mexcept\u001B[0m\u001B[0;34m:\u001B[0m\u001B[0;34m\u001B[0m\u001B[0;34m\u001B[0m\u001B[0m\n",
      "\u001B[0;31mTypeError\u001B[0m: makeT1Font() argument 2 must be str, not None",
      "\nDuring handling of the above exception, another exception occurred:\n",
      "\u001B[0;31mRenderPMError\u001B[0m                             Traceback (most recent call last)",
      "\u001B[0;32m/tmp/ipykernel_30446/217917070.py\u001B[0m in \u001B[0;36m<module>\u001B[0;34m\u001B[0m\n\u001B[1;32m     37\u001B[0m         \u001B[0mchange\u001B[0m \u001B[0;34m+=\u001B[0m \u001B[0;36m1\u001B[0m\u001B[0;34m\u001B[0m\u001B[0;34m\u001B[0m\u001B[0m\n\u001B[1;32m     38\u001B[0m     \u001B[0mtweets_df\u001B[0m \u001B[0;34m=\u001B[0m \u001B[0mtweets_df\u001B[0m\u001B[0;34m.\u001B[0m\u001B[0mappend\u001B[0m\u001B[0;34m(\u001B[0m\u001B[0mrow\u001B[0m\u001B[0;34m,\u001B[0m \u001B[0mignore_index\u001B[0m\u001B[0;34m=\u001B[0m\u001B[0;32mTrue\u001B[0m\u001B[0;34m)\u001B[0m\u001B[0;34m\u001B[0m\u001B[0;34m\u001B[0m\u001B[0m\n\u001B[0;32m---> 39\u001B[0;31m     \u001B[0mconvert_svg\u001B[0m\u001B[0;34m(\u001B[0m\u001B[0;34m'flash_cards/CdS_Test.svg'\u001B[0m\u001B[0;34m,\u001B[0m \u001B[0;34m'flash_cards/png/{}.png'\u001B[0m\u001B[0;34m.\u001B[0m\u001B[0mformat\u001B[0m\u001B[0;34m(\u001B[0m\u001B[0mv\u001B[0m\u001B[0;34m[\u001B[0m\u001B[0;34m\"FuD-Key\"\u001B[0m\u001B[0;34m]\u001B[0m\u001B[0;34m)\u001B[0m\u001B[0;34m)\u001B[0m\u001B[0;34m\u001B[0m\u001B[0;34m\u001B[0m\u001B[0m\n\u001B[0m\u001B[1;32m     40\u001B[0m     \u001B[0;32mbreak\u001B[0m\u001B[0;34m\u001B[0m\u001B[0;34m\u001B[0m\u001B[0m\n\u001B[1;32m     41\u001B[0m \u001B[0;34m\u001B[0m\u001B[0m\n",
      "\u001B[0;32m~/Dokumente/Datathon/ConstanceDeSalm/Tweets_Constance_de_Salm/ConstanceDeSalm/CdS_Twitter/flash_cards/convert_svg.py\u001B[0m in \u001B[0;36mconvert_svg\u001B[0;34m(file_name, target_file)\u001B[0m\n\u001B[1;32m     21\u001B[0m     \u001B[0;31m#print(register_font('FrutigerNextCondensed', 'flash_cards/FrutigerNextCondensed.ttf'))\u001B[0m\u001B[0;34m\u001B[0m\u001B[0;34m\u001B[0m\u001B[0;34m\u001B[0m\u001B[0m\n\u001B[1;32m     22\u001B[0m     \u001B[0mdrawing\u001B[0m \u001B[0;34m=\u001B[0m \u001B[0msvg\u001B[0m\u001B[0;34m(\u001B[0m\u001B[0mfile_name\u001B[0m\u001B[0;34m,\u001B[0m \u001B[0mfont_map\u001B[0m\u001B[0;34m=\u001B[0m\u001B[0mfmap\u001B[0m\u001B[0;34m)\u001B[0m\u001B[0;34m\u001B[0m\u001B[0;34m\u001B[0m\u001B[0m\n\u001B[0;32m---> 23\u001B[0;31m     \u001B[0mrenderPM\u001B[0m\u001B[0;34m.\u001B[0m\u001B[0mdrawToFile\u001B[0m\u001B[0;34m(\u001B[0m\u001B[0mdrawing\u001B[0m\u001B[0;34m,\u001B[0m \u001B[0mtarget_file\u001B[0m\u001B[0;34m,\u001B[0m \u001B[0mfmt\u001B[0m\u001B[0;34m=\u001B[0m\u001B[0;34m\"PNG\"\u001B[0m\u001B[0;34m)\u001B[0m\u001B[0;34m\u001B[0m\u001B[0;34m\u001B[0m\u001B[0m\n\u001B[0m\u001B[1;32m     24\u001B[0m \u001B[0;34m\u001B[0m\u001B[0m\n\u001B[1;32m     25\u001B[0m \u001B[0;34m\u001B[0m\u001B[0m\n",
      "\u001B[0;32m/usr/lib/python3/dist-packages/reportlab/graphics/renderPM.py\u001B[0m in \u001B[0;36mdrawToFile\u001B[0;34m(d, fn, fmt, dpi, bg, configPIL, showBoundary)\u001B[0m\n\u001B[1;32m    678\u001B[0m     '''create a pixmap and draw drawing, d to it then save as a file\n\u001B[1;32m    679\u001B[0m     configPIL dict is passed to image save method'''\n\u001B[0;32m--> 680\u001B[0;31m     \u001B[0mc\u001B[0m \u001B[0;34m=\u001B[0m \u001B[0mdrawToPMCanvas\u001B[0m\u001B[0;34m(\u001B[0m\u001B[0md\u001B[0m\u001B[0;34m,\u001B[0m \u001B[0mdpi\u001B[0m\u001B[0;34m=\u001B[0m\u001B[0mdpi\u001B[0m\u001B[0;34m,\u001B[0m \u001B[0mbg\u001B[0m\u001B[0;34m=\u001B[0m\u001B[0mbg\u001B[0m\u001B[0;34m,\u001B[0m \u001B[0mconfigPIL\u001B[0m\u001B[0;34m=\u001B[0m\u001B[0mconfigPIL\u001B[0m\u001B[0;34m,\u001B[0m \u001B[0mshowBoundary\u001B[0m\u001B[0;34m=\u001B[0m\u001B[0mshowBoundary\u001B[0m\u001B[0;34m)\u001B[0m\u001B[0;34m\u001B[0m\u001B[0;34m\u001B[0m\u001B[0m\n\u001B[0m\u001B[1;32m    681\u001B[0m     \u001B[0mc\u001B[0m\u001B[0;34m.\u001B[0m\u001B[0msaveToFile\u001B[0m\u001B[0;34m(\u001B[0m\u001B[0mfn\u001B[0m\u001B[0;34m,\u001B[0m\u001B[0mfmt\u001B[0m\u001B[0;34m)\u001B[0m\u001B[0;34m\u001B[0m\u001B[0;34m\u001B[0m\u001B[0m\n\u001B[1;32m    682\u001B[0m \u001B[0;34m\u001B[0m\u001B[0m\n",
      "\u001B[0;32m/usr/lib/python3/dist-packages/reportlab/graphics/renderPM.py\u001B[0m in \u001B[0;36mdrawToPMCanvas\u001B[0;34m(d, dpi, bg, configPIL, showBoundary)\u001B[0m\n\u001B[1;32m    664\u001B[0m     \u001B[0md\u001B[0m \u001B[0;34m=\u001B[0m \u001B[0mrenderScaledDrawing\u001B[0m\u001B[0;34m(\u001B[0m\u001B[0md\u001B[0m\u001B[0;34m)\u001B[0m\u001B[0;34m\u001B[0m\u001B[0;34m\u001B[0m\u001B[0m\n\u001B[1;32m    665\u001B[0m     \u001B[0mc\u001B[0m \u001B[0;34m=\u001B[0m \u001B[0mPMCanvas\u001B[0m\u001B[0;34m(\u001B[0m\u001B[0md\u001B[0m\u001B[0;34m.\u001B[0m\u001B[0mwidth\u001B[0m\u001B[0;34m,\u001B[0m \u001B[0md\u001B[0m\u001B[0;34m.\u001B[0m\u001B[0mheight\u001B[0m\u001B[0;34m,\u001B[0m \u001B[0mdpi\u001B[0m\u001B[0;34m=\u001B[0m\u001B[0mdpi\u001B[0m\u001B[0;34m,\u001B[0m \u001B[0mbg\u001B[0m\u001B[0;34m=\u001B[0m\u001B[0mbg\u001B[0m\u001B[0;34m,\u001B[0m \u001B[0mconfigPIL\u001B[0m\u001B[0;34m=\u001B[0m\u001B[0mconfigPIL\u001B[0m\u001B[0;34m)\u001B[0m\u001B[0;34m\u001B[0m\u001B[0;34m\u001B[0m\u001B[0m\n\u001B[0;32m--> 666\u001B[0;31m     \u001B[0mdraw\u001B[0m\u001B[0;34m(\u001B[0m\u001B[0md\u001B[0m\u001B[0;34m,\u001B[0m \u001B[0mc\u001B[0m\u001B[0;34m,\u001B[0m \u001B[0;36m0\u001B[0m\u001B[0;34m,\u001B[0m \u001B[0;36m0\u001B[0m\u001B[0;34m,\u001B[0m \u001B[0mshowBoundary\u001B[0m\u001B[0;34m=\u001B[0m\u001B[0mshowBoundary\u001B[0m\u001B[0;34m)\u001B[0m\u001B[0;34m\u001B[0m\u001B[0;34m\u001B[0m\u001B[0m\n\u001B[0m\u001B[1;32m    667\u001B[0m     \u001B[0;32mreturn\u001B[0m \u001B[0mc\u001B[0m\u001B[0;34m\u001B[0m\u001B[0;34m\u001B[0m\u001B[0m\n\u001B[1;32m    668\u001B[0m \u001B[0;34m\u001B[0m\u001B[0m\n",
      "\u001B[0;32m/usr/lib/python3/dist-packages/reportlab/graphics/renderPM.py\u001B[0m in \u001B[0;36mdraw\u001B[0;34m(drawing, canvas, x, y, showBoundary)\u001B[0m\n\u001B[1;32m     49\u001B[0m     \u001B[0;34m\"\"\"As it says\"\"\"\u001B[0m\u001B[0;34m\u001B[0m\u001B[0;34m\u001B[0m\u001B[0m\n\u001B[1;32m     50\u001B[0m     \u001B[0mR\u001B[0m \u001B[0;34m=\u001B[0m \u001B[0m_PMRenderer\u001B[0m\u001B[0;34m(\u001B[0m\u001B[0;34m)\u001B[0m\u001B[0;34m\u001B[0m\u001B[0;34m\u001B[0m\u001B[0m\n\u001B[0;32m---> 51\u001B[0;31m     \u001B[0mR\u001B[0m\u001B[0;34m.\u001B[0m\u001B[0mdraw\u001B[0m\u001B[0;34m(\u001B[0m\u001B[0mrenderScaledDrawing\u001B[0m\u001B[0;34m(\u001B[0m\u001B[0mdrawing\u001B[0m\u001B[0;34m)\u001B[0m\u001B[0;34m,\u001B[0m \u001B[0mcanvas\u001B[0m\u001B[0;34m,\u001B[0m \u001B[0mx\u001B[0m\u001B[0;34m,\u001B[0m \u001B[0my\u001B[0m\u001B[0;34m,\u001B[0m \u001B[0mshowBoundary\u001B[0m\u001B[0;34m=\u001B[0m\u001B[0mshowBoundary\u001B[0m\u001B[0;34m)\u001B[0m\u001B[0;34m\u001B[0m\u001B[0;34m\u001B[0m\u001B[0m\n\u001B[0m\u001B[1;32m     52\u001B[0m \u001B[0;34m\u001B[0m\u001B[0m\n\u001B[1;32m     53\u001B[0m \u001B[0;32mfrom\u001B[0m \u001B[0mreportlab\u001B[0m\u001B[0;34m.\u001B[0m\u001B[0mgraphics\u001B[0m\u001B[0;34m.\u001B[0m\u001B[0mrenderbase\u001B[0m \u001B[0;32mimport\u001B[0m \u001B[0mRenderer\u001B[0m\u001B[0;34m\u001B[0m\u001B[0;34m\u001B[0m\u001B[0m\n",
      "\u001B[0;32m/usr/lib/python3/dist-packages/reportlab/graphics/renderbase.py\u001B[0m in \u001B[0;36mdraw\u001B[0;34m(self, drawing, canvas, x, y, showBoundary)\u001B[0m\n\u001B[1;32m    202\u001B[0m                     \u001B[0mcanvas\u001B[0m\u001B[0;34m.\u001B[0m\u001B[0mrect\u001B[0m\u001B[0;34m(\u001B[0m\u001B[0mx\u001B[0m\u001B[0;34m,\u001B[0m \u001B[0my\u001B[0m\u001B[0;34m,\u001B[0m \u001B[0mdrawing\u001B[0m\u001B[0;34m.\u001B[0m\u001B[0mwidth\u001B[0m\u001B[0;34m,\u001B[0m \u001B[0mdrawing\u001B[0m\u001B[0;34m.\u001B[0m\u001B[0mheight\u001B[0m\u001B[0;34m)\u001B[0m\u001B[0;34m\u001B[0m\u001B[0;34m\u001B[0m\u001B[0m\n\u001B[1;32m    203\u001B[0m             \u001B[0mcanvas\u001B[0m\u001B[0;34m.\u001B[0m\u001B[0msaveState\u001B[0m\u001B[0;34m(\u001B[0m\u001B[0;34m)\u001B[0m\u001B[0;34m\u001B[0m\u001B[0;34m\u001B[0m\u001B[0m\n\u001B[0;32m--> 204\u001B[0;31m             \u001B[0mself\u001B[0m\u001B[0;34m.\u001B[0m\u001B[0minitState\u001B[0m\u001B[0;34m(\u001B[0m\u001B[0mx\u001B[0m\u001B[0;34m,\u001B[0m\u001B[0my\u001B[0m\u001B[0;34m)\u001B[0m  \u001B[0;31m#this is the push()\u001B[0m\u001B[0;34m\u001B[0m\u001B[0;34m\u001B[0m\u001B[0m\n\u001B[0m\u001B[1;32m    205\u001B[0m             \u001B[0mself\u001B[0m\u001B[0;34m.\u001B[0m\u001B[0mdrawNode\u001B[0m\u001B[0;34m(\u001B[0m\u001B[0mdrawing\u001B[0m\u001B[0;34m)\u001B[0m\u001B[0;34m\u001B[0m\u001B[0;34m\u001B[0m\u001B[0m\n\u001B[1;32m    206\u001B[0m             \u001B[0mself\u001B[0m\u001B[0;34m.\u001B[0m\u001B[0mpop\u001B[0m\u001B[0;34m(\u001B[0m\u001B[0;34m)\u001B[0m\u001B[0;34m\u001B[0m\u001B[0;34m\u001B[0m\u001B[0m\n",
      "\u001B[0;32m/usr/lib/python3/dist-packages/reportlab/graphics/renderPM.py\u001B[0m in \u001B[0;36minitState\u001B[0;34m(self, x, y)\u001B[0m\n\u001B[1;32m     96\u001B[0m         \u001B[0mdeltas\u001B[0m\u001B[0;34m[\u001B[0m\u001B[0;34m'transform'\u001B[0m\u001B[0;34m]\u001B[0m \u001B[0;34m=\u001B[0m \u001B[0mself\u001B[0m\u001B[0;34m.\u001B[0m\u001B[0m_canvas\u001B[0m\u001B[0;34m.\u001B[0m\u001B[0m_baseCTM\u001B[0m\u001B[0;34m[\u001B[0m\u001B[0;36m0\u001B[0m\u001B[0;34m:\u001B[0m\u001B[0;36m4\u001B[0m\u001B[0;34m]\u001B[0m\u001B[0;34m+\u001B[0m\u001B[0;34m(\u001B[0m\u001B[0mx\u001B[0m\u001B[0;34m,\u001B[0m\u001B[0my\u001B[0m\u001B[0;34m)\u001B[0m\u001B[0;34m\u001B[0m\u001B[0;34m\u001B[0m\u001B[0m\n\u001B[1;32m     97\u001B[0m         \u001B[0mself\u001B[0m\u001B[0;34m.\u001B[0m\u001B[0m_tracker\u001B[0m\u001B[0;34m.\u001B[0m\u001B[0mpush\u001B[0m\u001B[0;34m(\u001B[0m\u001B[0mdeltas\u001B[0m\u001B[0;34m)\u001B[0m\u001B[0;34m\u001B[0m\u001B[0;34m\u001B[0m\u001B[0m\n\u001B[0;32m---> 98\u001B[0;31m         \u001B[0mself\u001B[0m\u001B[0;34m.\u001B[0m\u001B[0mapplyState\u001B[0m\u001B[0;34m(\u001B[0m\u001B[0;34m)\u001B[0m\u001B[0;34m\u001B[0m\u001B[0;34m\u001B[0m\u001B[0m\n\u001B[0m\u001B[1;32m     99\u001B[0m \u001B[0;34m\u001B[0m\u001B[0m\n\u001B[1;32m    100\u001B[0m     \u001B[0;32mdef\u001B[0m \u001B[0mdrawNode\u001B[0m\u001B[0;34m(\u001B[0m\u001B[0mself\u001B[0m\u001B[0;34m,\u001B[0m \u001B[0mnode\u001B[0m\u001B[0;34m)\u001B[0m\u001B[0;34m:\u001B[0m\u001B[0;34m\u001B[0m\u001B[0;34m\u001B[0m\u001B[0m\n",
      "\u001B[0;32m/usr/lib/python3/dist-packages/reportlab/graphics/renderPM.py\u001B[0m in \u001B[0;36mapplyState\u001B[0;34m(self)\u001B[0m\n\u001B[1;32m     90\u001B[0m             \u001B[0mself\u001B[0m\u001B[0;34m.\u001B[0m\u001B[0m_canvas\u001B[0m\u001B[0;34m.\u001B[0m\u001B[0mfillOpacity\u001B[0m \u001B[0;34m=\u001B[0m \u001B[0malpha\u001B[0m\u001B[0;34m\u001B[0m\u001B[0;34m\u001B[0m\u001B[0m\n\u001B[1;32m     91\u001B[0m         \u001B[0mself\u001B[0m\u001B[0;34m.\u001B[0m\u001B[0m_canvas\u001B[0m\u001B[0;34m.\u001B[0m\u001B[0msetFillColor\u001B[0m\u001B[0;34m(\u001B[0m\u001B[0ms\u001B[0m\u001B[0;34m[\u001B[0m\u001B[0;34m'fillColor'\u001B[0m\u001B[0;34m]\u001B[0m\u001B[0;34m)\u001B[0m\u001B[0;34m\u001B[0m\u001B[0;34m\u001B[0m\u001B[0m\n\u001B[0;32m---> 92\u001B[0;31m         \u001B[0mself\u001B[0m\u001B[0;34m.\u001B[0m\u001B[0m_canvas\u001B[0m\u001B[0;34m.\u001B[0m\u001B[0msetFont\u001B[0m\u001B[0;34m(\u001B[0m\u001B[0ms\u001B[0m\u001B[0;34m[\u001B[0m\u001B[0;34m'fontName'\u001B[0m\u001B[0;34m]\u001B[0m\u001B[0;34m,\u001B[0m \u001B[0ms\u001B[0m\u001B[0;34m[\u001B[0m\u001B[0;34m'fontSize'\u001B[0m\u001B[0;34m]\u001B[0m\u001B[0;34m)\u001B[0m\u001B[0;34m\u001B[0m\u001B[0;34m\u001B[0m\u001B[0m\n\u001B[0m\u001B[1;32m     93\u001B[0m \u001B[0;34m\u001B[0m\u001B[0m\n\u001B[1;32m     94\u001B[0m     \u001B[0;32mdef\u001B[0m \u001B[0minitState\u001B[0m\u001B[0;34m(\u001B[0m\u001B[0mself\u001B[0m\u001B[0;34m,\u001B[0m\u001B[0mx\u001B[0m\u001B[0;34m,\u001B[0m\u001B[0my\u001B[0m\u001B[0;34m)\u001B[0m\u001B[0;34m:\u001B[0m\u001B[0;34m\u001B[0m\u001B[0;34m\u001B[0m\u001B[0m\n",
      "\u001B[0;32m/usr/lib/python3/dist-packages/reportlab/graphics/renderPM.py\u001B[0m in \u001B[0;36msetFont\u001B[0;34m(self, fontName, fontSize, leading)\u001B[0m\n\u001B[1;32m    397\u001B[0m \u001B[0;34m\u001B[0m\u001B[0m\n\u001B[1;32m    398\u001B[0m     \u001B[0;32mdef\u001B[0m \u001B[0msetFont\u001B[0m\u001B[0;34m(\u001B[0m\u001B[0mself\u001B[0m\u001B[0;34m,\u001B[0m\u001B[0mfontName\u001B[0m\u001B[0;34m,\u001B[0m\u001B[0mfontSize\u001B[0m\u001B[0;34m,\u001B[0m\u001B[0mleading\u001B[0m\u001B[0;34m=\u001B[0m\u001B[0;32mNone\u001B[0m\u001B[0;34m)\u001B[0m\u001B[0;34m:\u001B[0m\u001B[0;34m\u001B[0m\u001B[0;34m\u001B[0m\u001B[0m\n\u001B[0;32m--> 399\u001B[0;31m         \u001B[0m_setFont\u001B[0m\u001B[0;34m(\u001B[0m\u001B[0mself\u001B[0m\u001B[0;34m.\u001B[0m\u001B[0m_gs\u001B[0m\u001B[0;34m,\u001B[0m\u001B[0mfontName\u001B[0m\u001B[0;34m,\u001B[0m\u001B[0mfontSize\u001B[0m\u001B[0;34m)\u001B[0m\u001B[0;34m\u001B[0m\u001B[0;34m\u001B[0m\u001B[0m\n\u001B[0m\u001B[1;32m    400\u001B[0m \u001B[0;34m\u001B[0m\u001B[0m\n\u001B[1;32m    401\u001B[0m     \u001B[0;32mdef\u001B[0m \u001B[0m__setattr__\u001B[0m\u001B[0;34m(\u001B[0m\u001B[0mself\u001B[0m\u001B[0;34m,\u001B[0m\u001B[0mname\u001B[0m\u001B[0;34m,\u001B[0m\u001B[0mvalue\u001B[0m\u001B[0;34m)\u001B[0m\u001B[0;34m:\u001B[0m\u001B[0;34m\u001B[0m\u001B[0;34m\u001B[0m\u001B[0m\n",
      "\u001B[0;32m/usr/lib/python3/dist-packages/reportlab/graphics/renderPM.py\u001B[0m in \u001B[0;36m_setFont\u001B[0;34m(gs, fontName, fontSize)\u001B[0m\n\u001B[1;32m    249\u001B[0m         \u001B[0;32mexcept\u001B[0m\u001B[0;34m:\u001B[0m\u001B[0;34m\u001B[0m\u001B[0;34m\u001B[0m\u001B[0m\n\u001B[1;32m    250\u001B[0m             \u001B[0ms1\u001B[0m\u001B[0;34m,\u001B[0m \u001B[0ms2\u001B[0m \u001B[0;34m=\u001B[0m \u001B[0mlist\u001B[0m\u001B[0;34m(\u001B[0m\u001B[0mmap\u001B[0m\u001B[0;34m(\u001B[0m\u001B[0mstr\u001B[0m\u001B[0;34m,\u001B[0m\u001B[0msys\u001B[0m\u001B[0;34m.\u001B[0m\u001B[0mexc_info\u001B[0m\u001B[0;34m(\u001B[0m\u001B[0;34m)\u001B[0m\u001B[0;34m[\u001B[0m\u001B[0;34m:\u001B[0m\u001B[0;36m2\u001B[0m\u001B[0;34m]\u001B[0m\u001B[0;34m)\u001B[0m\u001B[0;34m)\u001B[0m\u001B[0;34m\u001B[0m\u001B[0;34m\u001B[0m\u001B[0m\n\u001B[0;32m--> 251\u001B[0;31m             \u001B[0;32mraise\u001B[0m \u001B[0mRenderPMError\u001B[0m\u001B[0;34m(\u001B[0m\u001B[0;34m\"Can't setFont(%s) missing the T1 files?\\nOriginally %s: %s\"\u001B[0m \u001B[0;34m%\u001B[0m \u001B[0;34m(\u001B[0m\u001B[0mfontName\u001B[0m\u001B[0;34m,\u001B[0m\u001B[0ms1\u001B[0m\u001B[0;34m,\u001B[0m\u001B[0ms2\u001B[0m\u001B[0;34m)\u001B[0m\u001B[0;34m)\u001B[0m\u001B[0;34m\u001B[0m\u001B[0;34m\u001B[0m\u001B[0m\n\u001B[0m\u001B[1;32m    252\u001B[0m         \u001B[0mgs\u001B[0m\u001B[0;34m.\u001B[0m\u001B[0msetFont\u001B[0m\u001B[0;34m(\u001B[0m\u001B[0mfontName\u001B[0m\u001B[0;34m,\u001B[0m\u001B[0mfontSize\u001B[0m\u001B[0;34m)\u001B[0m\u001B[0;34m\u001B[0m\u001B[0;34m\u001B[0m\u001B[0m\n\u001B[1;32m    253\u001B[0m \u001B[0;34m\u001B[0m\u001B[0m\n",
      "\u001B[0;31mRenderPMError\u001B[0m: Can't setFont(Times-Roman) missing the T1 files?\nOriginally <class 'TypeError'>: makeT1Font() argument 2 must be str, not None"
     ]
    }
   ],
   "source": [
    "from flash_cards.convert_svg import *\n",
    "\n",
    "file = open('flash_cards/flashcard_cds.svg', encoding='utf8')\n",
    "svg_format = file.read()\n",
    "file.close()\n",
    "\n",
    "for i, v in df_cds.iterrows():\n",
    "    row = {}\n",
    "    text = str(v[\"Anfang des Briefes\"]).replace('\\n', '').replace('\\t', '').replace('  ', ' ').strip() + ' ...'\n",
    "    flash_card_text = create_flashcard_text(text)\n",
    "    flash_card = svg_format.format(text=flash_card_text,\n",
    "                                   date=v[\"Datierung (JJJJ-MM-TT)\"],\n",
    "                                   name=v[\" Empfänger\"].split(', ')[0] if type(v[\" Empfänger\"]) is str else 'N.N.')\n",
    "    with open('flash_cards/CdS_Test.svg', 'w', encoding='utf8') as f:\n",
    "        f.write(flash_card)\n",
    "\n",
    "    row[\"Tweet\"] = v[\"URL\"]\n",
    "    row[\"Date\"] = \"{}.{}.{}\".format(day[2], day[1], day[0])\n",
    "    time_tweet = \"\"\n",
    "    h = np.random.randint(7, 21)\n",
    "    m = np.random.randint(0, 59)\n",
    "    s = np.random.randint(0, 59)\n",
    "    h = str(h) if len(str(h)) == 2 else \"0\" + str(h)\n",
    "    m = str(m) if len(str(m)) == 2 else \"0\" + str(m)\n",
    "    s = str(s) if len(str(s)) == 2 else \"0\" + str(s)\n",
    "    row[\"Time\"] = \"{}:{}:{}\".format(h, m, s)\n",
    "    geo_information = geo_data.loc[geo_data.url == v['Geonames (Ausstellungsort)']]\n",
    "    try:\n",
    "        row[\"Longitude\"] = geo_information.iloc[0]['long']\n",
    "        row[\"Lattitude\"] = geo_information.iloc[0]['lat']\n",
    "    except IndexError:\n",
    "        True\n",
    "    if change == 1:\n",
    "        day = generate_next_day(day[2], day[1], day[0])\n",
    "        change = 0\n",
    "    else:\n",
    "        change += 1\n",
    "    tweets_df = tweets_df.append(row, ignore_index=True)\n",
    "    convert_svg('flash_cards/CdS_Test.svg', 'flash_cards/png/{}.png'.format(v[\"FuD-Key\"]))\n",
    "    break"
   ],
   "metadata": {
    "collapsed": false,
    "pycharm": {
     "name": "#%%\n"
    }
   }
  },
  {
   "cell_type": "markdown",
   "id": "e7588150",
   "metadata": {
    "pycharm": {
     "name": "#%% md\n"
    }
   },
   "source": [
    "## Visualizing the Informations ##"
   ]
  },
  {
   "cell_type": "code",
   "execution_count": null,
   "id": "74690268",
   "metadata": {
    "collapsed": false,
    "jupyter": {
     "outputs_hidden": false
    },
    "pycharm": {
     "name": "#%%\n"
    }
   },
   "outputs": [],
   "source": [
    "#!pip install geopandas\n",
    "#!pip install geoplot\n",
    "#import geopandas as gp\n",
    "#import geoplot as gplt\n",
    "#from shapely.geometry import Point\n",
    "import folium"
   ]
  },
  {
   "cell_type": "code",
   "execution_count": null,
   "id": "00a63316",
   "metadata": {
    "collapsed": false,
    "jupyter": {
     "outputs_hidden": false
    },
    "pycharm": {
     "name": "#%%\n"
    }
   },
   "outputs": [],
   "source": [
    "m = folium.Map()\n",
    "geo_data = pd.read_csv(\"lib/CdS_Places.csv\", encoding=\"utf8\", index_col='id')\n",
    "\n",
    "for i, v in df_cds.iterrows():\n",
    "    geo_information = geo_data.loc[geo_data.url == v['Geonames (Ausstellungsort)']]\n",
    "    try:\n",
    "        lng = geo_information.iloc[0]['long']\n",
    "        lat = geo_information.iloc[0]['lat']\n",
    "        folium.Marker([lat, lng],\n",
    "                      popup=\"<i>à {}, le </i>\".format(v[\"Anfang des Briefes\"]),\n",
    "                      tooltip=\"à {}, le \".format(v[\" Empfänger\"].split(', ')[0] if type(v[\" Empfänger\"]) is str else 'N.N.', v[\"Datierung (JJJJ-MM-TT)\"])).add_to(m)\n",
    "    except IndexError:\n",
    "        True"
   ]
  }
 ],
 "metadata": {
  "kernelspec": {
   "display_name": "Python 3 (ipykernel)",
   "language": "python",
   "name": "python3"
  },
  "language_info": {
   "codemirror_mode": {
    "name": "ipython",
    "version": 3
   },
   "file_extension": ".py",
   "mimetype": "text/x-python",
   "name": "python",
   "nbconvert_exporter": "python",
   "pygments_lexer": "ipython3",
   "version": "3.8.10"
  }
 },
 "nbformat": 4,
 "nbformat_minor": 5
}