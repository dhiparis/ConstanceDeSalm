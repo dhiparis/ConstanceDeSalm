{
 "cells": [
  {
   "cell_type": "markdown",
   "id": "2cc94755-0119-4768-8510-4ed34cca1ca4",
   "metadata": {},
   "source": [
    "# Constance de Salm #\n",
    "\n",
    "Extracting and generating Tweets for CdS. Twtteraccound: https://twitter.com/constancesalm\n",
    "\n",
    "Importing the needed libraries."
   ]
  },
  {
   "cell_type": "code",
   "execution_count": 2,
   "id": "e90ed171-1e19-4e27-b588-4fc35b756bea",
   "metadata": {},
   "outputs": [],
   "source": [
    "import pandas as pd\n",
    "import re\n",
    "import matplotlib.pyplot as plt\n",
    "import seaborn as sns"
   ]
  },
  {
   "cell_type": "markdown",
   "id": "14f543be-d8b4-4b0a-a79a-8eaf4d3acd69",
   "metadata": {
    "pycharm": {
     "name": "#%% md\n"
    }
   },
   "source": [
    "Loading the Dataset via pandas."
   ]
  },
  {
   "cell_type": "code",
   "execution_count": 13,
   "outputs": [
    {
     "name": "stdout",
     "output_type": "stream",
     "text": [
      "['FuD-Key', 'letzte Änderung', 'Dokumenttyp', 'URL', 'Nr.', 'Verfasser', 'GND (Verfasser)', 'VIAF (Verfasser)', ' Empfänger', 'GND (Empfänger)', 'VIAF (Empfänger)', 'Datierung (JJJJ-MM-TT)', 'Alternative Datierung', 'Ausstellungsort', 'Geonames (Ausstellungsort)', 'Empfangsort', 'Geonames (Empfangsort)', 'Vorlage', 'Vollständigkeit des Archivals', 'Erläuterung Unvollständigkeit', 'Umfang in Seiten', 'Anfang des Briefes', 'Inhaltliche Stichpunkte', 'Weitere Personen', 'GND (Weitere Personen)', 'VIAF (Weitere Personen)', 'Orte', 'Geonames (Orte)', 'Schlagwörter', 'Editionen', 'Vermerk', 'Bestand', 'Verweise', 'Digitalisate: Dateiname (Signatur)', 'Zitierempfehlung']\n"
     ]
    }
   ],
   "source": [
    "df = pd.read_csv(\"lib/20211116_Constance_de_Salm_Korrespondenz_Inventar_Briefe.csv\", sep=';', encoding='utf8')\n",
    "print(list(df))"
   ],
   "metadata": {
    "collapsed": false,
    "pycharm": {
     "name": "#%%\n"
    }
   }
  },
  {
   "cell_type": "markdown",
   "source": [
    "Extracting just the letters which were by Constance de Salm herself."
   ],
   "metadata": {
    "collapsed": false,
    "pycharm": {
     "name": "#%% md\n"
    }
   }
  },
  {
   "cell_type": "code",
   "execution_count": 14,
   "id": "96d161c2-4d97-46db-a75d-79ef1345e31c",
   "metadata": {},
   "outputs": [],
   "source": [
    "\n",
    "df_cds = pd.DataFrame(columns=list(df))\n",
    "for i, v in df.iterrows():\n",
    "    if type(v[\"Verfasser\"]) is not str: continue\n",
    "    if re.search(r'.*Constance.*', v[\"Verfasser\"]):\n",
    "        df_cds = df_cds.append(v, ignore_index=True)"
   ]
  },
  {
   "cell_type": "markdown",
   "source": [
    "How many Tweets can be used for the Twitter-Account (based on the length, which is limited by Twitter [280])\n"
   ],
   "metadata": {
    "collapsed": false,
    "pycharm": {
     "name": "#%% md\n"
    }
   }
  },
  {
   "cell_type": "code",
   "execution_count": 15,
   "outputs": [
    {
     "name": "stdout",
     "output_type": "stream",
     "text": [
      "2764 Tweets are shorter then 280 chars.\n"
     ]
    }
   ],
   "source": [
    "length = []\n",
    "long_tweets = []\n",
    "for i, v in df_cds.iterrows():\n",
    "    tweet = '\"{0}...\" à {1}, {2} ({3})'.format(v[\"Anfang des Briefes\"],\n",
    "                                            v[\" Empfänger\"],\n",
    "                                            v[\"Datierung (JJJJ-MM-TT)\"],\n",
    "                                            v[\"URL\"]).replace('\\n', '').replace('\\t', '')\n",
    "    length.append(len(tweet))\n",
    "    if len(tweet) > 280:\n",
    "        long_tweets.append(tweet)\n",
    "print(\"{} Tweets are shorter then 280 chars.\".format(len(list(filter(lambda x: x<=280, length)))))"
   ],
   "metadata": {
    "collapsed": false,
    "pycharm": {
     "name": "#%%\n"
    }
   }
  },
  {
   "cell_type": "code",
   "execution_count": 19,
   "outputs": [],
   "source": [
    "import numpy as np\n",
    "\n",
    "def generate_next_day(d, m, y):\n",
    "    months = {1: 31, 2:28, 3: 31, 4: 30, 5: 31, 6: 30, 7: 31, 8: 31, 9: 30, 10: 31, 11: 30, 12: 31}\n",
    "    d = d + 1\n",
    "    if d > months[m]:\n",
    "        d = 1\n",
    "        m +=1\n",
    "        if m > 12:\n",
    "            m = 1\n",
    "            y += 1\n",
    "    return y, m, d\n",
    "\n",
    "tweets_df = pd.DataFrame(columns=[\"Date\", \"Time\", \"Tweet\", \"Picture\", \"Longitude\", \"Lattitude\"])\n",
    "geo_data = pd.read_csv(\"lib/CdS_Places.csv\", encoding=\"utf8\", index_col='id')\n",
    "\n",
    "day = (2021, 11, 26)\n",
    "change = 0\n",
    "for i, v in df_cds.iterrows():\n",
    "    row = {}\n",
    "    tweet = '\"{0}\" à {1}, {2} ({3})'.format(str(v[\"Anfang des Briefes\"]),\n",
    "                                            v[\" Empfänger\"].split(', ')[0] if type(v[\" Empfänger\"]) is str else 'N.N.',\n",
    "                                            v[\"Datierung (JJJJ-MM-TT)\"],\n",
    "                                            v[\"URL\"])\n",
    "    if len(tweet) > 280: continue\n",
    "    row[\"Tweet\"] = tweet\n",
    "    row[\"Date\"] = \"{}.{}.{}\".format(day[2], day[1], day[0])\n",
    "    time_tweet = \"\"\n",
    "    h = np.random.randint(7, 21)\n",
    "    m = np.random.randint(0, 59)\n",
    "    s = np.random.randint(0, 59)\n",
    "    h = str(h) if len(str(h)) == 2 else \"0\" + str(h)\n",
    "    m = str(m) if len(str(m)) == 2 else \"0\" + str(m)\n",
    "    s = str(s) if len(str(s)) == 2 else \"0\" + str(s)\n",
    "    row[\"Time\"] = \"{}:{}:{}\".format(h, m, s)\n",
    "    geo_information = geo_data.loc[geo_data.url == v['Geonames (Ausstellungsort)']]\n",
    "    try:\n",
    "        row[\"Longitude\"] = geo_information.iloc[0]['long']\n",
    "        row[\"Lattitude\"] = geo_information.iloc[0]['lat']\n",
    "    except IndexError:\n",
    "        True\n",
    "    if change == 1:\n",
    "        day = generate_next_day(day[2], day[1], day[0])\n",
    "        change = 0\n",
    "    else:\n",
    "        change += 1\n",
    "    tweets_df = tweets_df.append(row, ignore_index=True)"
   ],
   "metadata": {
    "collapsed": false,
    "pycharm": {
     "name": "#%%\n"
    }
   }
  },
  {
   "cell_type": "code",
   "execution_count": 20,
   "outputs": [
    {
     "data": {
      "text/plain": "            Date      Time                                              Tweet  \\\n0     26.11.2021  07:21:08  \"Cher et excellent voisin, j'ai remis de jour ...   \n1     26.11.2021  15:23:13  \"Je vais retourner à Paris dans 15 jours, Mons...   \n2     27.11.2021  07:09:33  \"Nous avons bien regretté, Monsieur, de ne pas...   \n3     27.11.2021  16:51:21  \"Je ne vous ai pas encore écrit, Monsieur,\" à ...   \n4     28.11.2021  16:53:46  \"Je ne serai jamais embarrassée, Monsieur, qua...   \n...          ...       ...                                                ...   \n2804   29.9.2025  07:16:07  \"Je n’entends point parler de vous, Monsieur, ...   \n2805   29.9.2025  08:58:19  \"Vous aurez peut-être été surpris, Monsieur, d...   \n2806   30.9.2025  09:36:24  \"Je reçois à l'instant votre lettre de la camp...   \n2807   30.9.2025  10:04:53  \"J’ai bien tardé à répondre à votre dernière l...   \n2808   1.10.2025  08:57:25  \"J'arrive d'Aix-la-Chapelle, Monsieur, où, com...   \n\n      Picture  Longitude  Lattitude  \n0         NaN    6.50000   51.10000  \n1         NaN    6.50000   51.10000  \n2         NaN    6.50000   51.10000  \n3         NaN    6.50000   51.10000  \n4         NaN        NaN        NaN  \n...       ...        ...        ...  \n2804      NaN    6.50000   51.10000  \n2805      NaN    6.08342   50.77664  \n2806      NaN    6.50000   51.10000  \n2807      NaN        NaN        NaN  \n2808      NaN    6.50000   51.10000  \n\n[2809 rows x 6 columns]",
      "text/html": "<div>\n<style scoped>\n    .dataframe tbody tr th:only-of-type {\n        vertical-align: middle;\n    }\n\n    .dataframe tbody tr th {\n        vertical-align: top;\n    }\n\n    .dataframe thead th {\n        text-align: right;\n    }\n</style>\n<table border=\"1\" class=\"dataframe\">\n  <thead>\n    <tr style=\"text-align: right;\">\n      <th></th>\n      <th>Date</th>\n      <th>Time</th>\n      <th>Tweet</th>\n      <th>Picture</th>\n      <th>Longitude</th>\n      <th>Lattitude</th>\n    </tr>\n  </thead>\n  <tbody>\n    <tr>\n      <th>0</th>\n      <td>26.11.2021</td>\n      <td>07:21:08</td>\n      <td>\"Cher et excellent voisin, j'ai remis de jour ...</td>\n      <td>NaN</td>\n      <td>6.50000</td>\n      <td>51.10000</td>\n    </tr>\n    <tr>\n      <th>1</th>\n      <td>26.11.2021</td>\n      <td>15:23:13</td>\n      <td>\"Je vais retourner à Paris dans 15 jours, Mons...</td>\n      <td>NaN</td>\n      <td>6.50000</td>\n      <td>51.10000</td>\n    </tr>\n    <tr>\n      <th>2</th>\n      <td>27.11.2021</td>\n      <td>07:09:33</td>\n      <td>\"Nous avons bien regretté, Monsieur, de ne pas...</td>\n      <td>NaN</td>\n      <td>6.50000</td>\n      <td>51.10000</td>\n    </tr>\n    <tr>\n      <th>3</th>\n      <td>27.11.2021</td>\n      <td>16:51:21</td>\n      <td>\"Je ne vous ai pas encore écrit, Monsieur,\" à ...</td>\n      <td>NaN</td>\n      <td>6.50000</td>\n      <td>51.10000</td>\n    </tr>\n    <tr>\n      <th>4</th>\n      <td>28.11.2021</td>\n      <td>16:53:46</td>\n      <td>\"Je ne serai jamais embarrassée, Monsieur, qua...</td>\n      <td>NaN</td>\n      <td>NaN</td>\n      <td>NaN</td>\n    </tr>\n    <tr>\n      <th>...</th>\n      <td>...</td>\n      <td>...</td>\n      <td>...</td>\n      <td>...</td>\n      <td>...</td>\n      <td>...</td>\n    </tr>\n    <tr>\n      <th>2804</th>\n      <td>29.9.2025</td>\n      <td>07:16:07</td>\n      <td>\"Je n’entends point parler de vous, Monsieur, ...</td>\n      <td>NaN</td>\n      <td>6.50000</td>\n      <td>51.10000</td>\n    </tr>\n    <tr>\n      <th>2805</th>\n      <td>29.9.2025</td>\n      <td>08:58:19</td>\n      <td>\"Vous aurez peut-être été surpris, Monsieur, d...</td>\n      <td>NaN</td>\n      <td>6.08342</td>\n      <td>50.77664</td>\n    </tr>\n    <tr>\n      <th>2806</th>\n      <td>30.9.2025</td>\n      <td>09:36:24</td>\n      <td>\"Je reçois à l'instant votre lettre de la camp...</td>\n      <td>NaN</td>\n      <td>6.50000</td>\n      <td>51.10000</td>\n    </tr>\n    <tr>\n      <th>2807</th>\n      <td>30.9.2025</td>\n      <td>10:04:53</td>\n      <td>\"J’ai bien tardé à répondre à votre dernière l...</td>\n      <td>NaN</td>\n      <td>NaN</td>\n      <td>NaN</td>\n    </tr>\n    <tr>\n      <th>2808</th>\n      <td>1.10.2025</td>\n      <td>08:57:25</td>\n      <td>\"J'arrive d'Aix-la-Chapelle, Monsieur, où, com...</td>\n      <td>NaN</td>\n      <td>6.50000</td>\n      <td>51.10000</td>\n    </tr>\n  </tbody>\n</table>\n<p>2809 rows × 6 columns</p>\n</div>"
     },
     "execution_count": 20,
     "metadata": {},
     "output_type": "execute_result"
    }
   ],
   "source": [
    "tweets_df"
   ],
   "metadata": {
    "collapsed": false,
    "pycharm": {
     "name": "#%%\n"
    }
   }
  },
  {
   "cell_type": "code",
   "execution_count": 104,
   "outputs": [
    {
     "data": {
      "text/plain": "            Date      Time                                              Tweet  \\\n0     26.11.2021  07:45:46  \"Cher et excellent voisin, j'ai remis de jour ...   \n1     26.11.2021  09:07:34  \"Je vais retourner à Paris dans 15 jours, Mons...   \n2     27.11.2021  12:04:32  \"Nous avons bien regretté, Monsieur, de ne pas...   \n3     27.11.2021  20:15:39  \"Je ne vous ai pas encore écrit, Monsieur,\" à ...   \n4     28.11.2021  16:24:28  \"Je ne serai jamais embarrassée, Monsieur, qua...   \n...          ...       ...                                                ...   \n2807    1.3.2027  16:50:30  \"Je n’entends point parler de vous, Monsieur, ...   \n2808    1.3.2027  15:13:23  \"Vous aurez peut-être été surpris, Monsieur, d...   \n2809    2.3.2027  08:06:16  \"Je reçois à l'instant votre lettre de la camp...   \n2810    2.3.2027  18:58:45  \"J’ai bien tardé à répondre à votre dernière l...   \n2811    3.3.2027  07:57:16  \"J'arrive d'Aix-la-Chapelle, Monsieur, où, com...   \n\n     Picture Longitude Lattitude  \n0        NaN       6.5      51.1  \n1        NaN       6.5      51.1  \n2        NaN       6.5      51.1  \n3        NaN       6.5      51.1  \n4        NaN       NaN       NaN  \n...      ...       ...       ...  \n2807     NaN       6.5      51.1  \n2808     NaN   6.08342  50.77664  \n2809     NaN       6.5      51.1  \n2810     NaN       NaN       NaN  \n2811     NaN       6.5      51.1  \n\n[2812 rows x 6 columns]",
      "text/html": "<div>\n<style scoped>\n    .dataframe tbody tr th:only-of-type {\n        vertical-align: middle;\n    }\n\n    .dataframe tbody tr th {\n        vertical-align: top;\n    }\n\n    .dataframe thead th {\n        text-align: right;\n    }\n</style>\n<table border=\"1\" class=\"dataframe\">\n  <thead>\n    <tr style=\"text-align: right;\">\n      <th></th>\n      <th>Date</th>\n      <th>Time</th>\n      <th>Tweet</th>\n      <th>Picture</th>\n      <th>Longitude</th>\n      <th>Lattitude</th>\n    </tr>\n  </thead>\n  <tbody>\n    <tr>\n      <th>0</th>\n      <td>26.11.2021</td>\n      <td>07:45:46</td>\n      <td>\"Cher et excellent voisin, j'ai remis de jour ...</td>\n      <td>NaN</td>\n      <td>6.5</td>\n      <td>51.1</td>\n    </tr>\n    <tr>\n      <th>1</th>\n      <td>26.11.2021</td>\n      <td>09:07:34</td>\n      <td>\"Je vais retourner à Paris dans 15 jours, Mons...</td>\n      <td>NaN</td>\n      <td>6.5</td>\n      <td>51.1</td>\n    </tr>\n    <tr>\n      <th>2</th>\n      <td>27.11.2021</td>\n      <td>12:04:32</td>\n      <td>\"Nous avons bien regretté, Monsieur, de ne pas...</td>\n      <td>NaN</td>\n      <td>6.5</td>\n      <td>51.1</td>\n    </tr>\n    <tr>\n      <th>3</th>\n      <td>27.11.2021</td>\n      <td>20:15:39</td>\n      <td>\"Je ne vous ai pas encore écrit, Monsieur,\" à ...</td>\n      <td>NaN</td>\n      <td>6.5</td>\n      <td>51.1</td>\n    </tr>\n    <tr>\n      <th>4</th>\n      <td>28.11.2021</td>\n      <td>16:24:28</td>\n      <td>\"Je ne serai jamais embarrassée, Monsieur, qua...</td>\n      <td>NaN</td>\n      <td>NaN</td>\n      <td>NaN</td>\n    </tr>\n    <tr>\n      <th>...</th>\n      <td>...</td>\n      <td>...</td>\n      <td>...</td>\n      <td>...</td>\n      <td>...</td>\n      <td>...</td>\n    </tr>\n    <tr>\n      <th>2807</th>\n      <td>1.3.2027</td>\n      <td>16:50:30</td>\n      <td>\"Je n’entends point parler de vous, Monsieur, ...</td>\n      <td>NaN</td>\n      <td>6.5</td>\n      <td>51.1</td>\n    </tr>\n    <tr>\n      <th>2808</th>\n      <td>1.3.2027</td>\n      <td>15:13:23</td>\n      <td>\"Vous aurez peut-être été surpris, Monsieur, d...</td>\n      <td>NaN</td>\n      <td>6.08342</td>\n      <td>50.77664</td>\n    </tr>\n    <tr>\n      <th>2809</th>\n      <td>2.3.2027</td>\n      <td>08:06:16</td>\n      <td>\"Je reçois à l'instant votre lettre de la camp...</td>\n      <td>NaN</td>\n      <td>6.5</td>\n      <td>51.1</td>\n    </tr>\n    <tr>\n      <th>2810</th>\n      <td>2.3.2027</td>\n      <td>18:58:45</td>\n      <td>\"J’ai bien tardé à répondre à votre dernière l...</td>\n      <td>NaN</td>\n      <td>NaN</td>\n      <td>NaN</td>\n    </tr>\n    <tr>\n      <th>2811</th>\n      <td>3.3.2027</td>\n      <td>07:57:16</td>\n      <td>\"J'arrive d'Aix-la-Chapelle, Monsieur, où, com...</td>\n      <td>NaN</td>\n      <td>6.5</td>\n      <td>51.1</td>\n    </tr>\n  </tbody>\n</table>\n<p>2812 rows × 6 columns</p>\n</div>"
     },
     "execution_count": 104,
     "metadata": {},
     "output_type": "execute_result"
    }
   ],
   "source": [
    "tweets_df.to_excel(\"lib/Lettre_de_CdS.xlsx\", encoding=\"utf8\")\n",
    "tweets_df.to_csv(\"lib/Lettre_de_CdS.tsv\", encoding=\"utf8\", sep=\"\\t\")"
   ],
   "metadata": {
    "collapsed": false,
    "pycharm": {
     "name": "#%%\n"
    }
   }
  }
 ],
 "metadata": {
  "kernelspec": {
   "display_name": "Python 3 (ipykernel)",
   "language": "python",
   "name": "python3"
  },
  "language_info": {
   "codemirror_mode": {
    "name": "ipython",
    "version": 3
   },
   "file_extension": ".py",
   "mimetype": "text/x-python",
   "name": "python",
   "nbconvert_exporter": "python",
   "pygments_lexer": "ipython3",
   "version": "3.8.10"
  }
 },
 "nbformat": 4,
 "nbformat_minor": 5
}