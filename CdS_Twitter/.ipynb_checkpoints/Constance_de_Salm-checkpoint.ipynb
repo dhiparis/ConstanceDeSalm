{
 "cells": [
  {
   "cell_type": "markdown",
   "id": "2cc94755-0119-4768-8510-4ed34cca1ca4",
   "metadata": {},
   "source": [
    "# Constance de Salm #\n",
    "\n",
    "Extracting and generating Tweets for CdS. Twtteraccound: https://twitter.com/constancesalm\n",
    "\n",
    "Importing the needed libraries."
   ]
  },
  {
   "cell_type": "code",
   "execution_count": null,
   "id": "e90ed171-1e19-4e27-b588-4fc35b756bea",
   "metadata": {},
   "outputs": [],
   "source": [
    "import pandas as pd\n",
    "import re\n",
    "import matplotlib.pyplot as plt\n",
    "import seaborn as sns"
   ]
  },
  {
   "cell_type": "markdown",
   "id": "14f543be-d8b4-4b0a-a79a-8eaf4d3acd69",
   "metadata": {
    "pycharm": {
     "name": "#%% md\n"
    }
   },
   "source": [
    "Loading the Dataset via pandas."
   ]
  },
  {
   "cell_type": "code",
   "execution_count": null,
   "id": "67268c86",
   "metadata": {
    "collapsed": false,
    "jupyter": {
     "outputs_hidden": false
    },
    "pycharm": {
     "name": "#%%\n"
    }
   },
   "outputs": [],
   "source": [
    "df = pd.read_csv(\"lib/20211116_Constance_de_Salm_Korrespondenz_Inventar_Briefe.csv\", sep=';', encoding='utf8')\n",
    "print(list(df))"
   ]
  },
  {
   "cell_type": "markdown",
   "id": "5964b470",
   "metadata": {
    "pycharm": {
     "name": "#%% md\n"
    }
   },
   "source": [
    "Extracting just the letters which were by Constance de Salm herself."
   ]
  },
  {
   "cell_type": "code",
   "execution_count": null,
   "id": "96d161c2-4d97-46db-a75d-79ef1345e31c",
   "metadata": {},
   "outputs": [],
   "source": [
    "\n",
    "df_cds = pd.DataFrame(columns=list(df))\n",
    "for i, v in df.iterrows():\n",
    "    if type(v[\"Verfasser\"]) is not str: continue\n",
    "    if re.search(r'.*Constance.*', v[\"Verfasser\"]):\n",
    "        df_cds = df_cds.append(v, ignore_index=True)"
   ]
  },
  {
   "cell_type": "markdown",
   "id": "df7533fd",
   "metadata": {
    "pycharm": {
     "name": "#%% md\n"
    }
   },
   "source": [
    "## Generating the tweets ##\n",
    "How many Tweets can be used for the Twitter-Account (based on the length, which is limited by Twitter [280])\n"
   ]
  },
  {
   "cell_type": "code",
   "execution_count": null,
   "id": "00b3cc74",
   "metadata": {
    "collapsed": false,
    "jupyter": {
     "outputs_hidden": false
    },
    "pycharm": {
     "name": "#%%\n"
    }
   },
   "outputs": [],
   "source": [
    "length = []\n",
    "long_tweets = []\n",
    "for i, v in df_cds.iterrows():\n",
    "    tweet = '\"{0}...\" à {1}, {2} ({3})'.format(v[\"Anfang des Briefes\"],\n",
    "                                            v[\" Empfänger\"],\n",
    "                                            v[\"Datierung (JJJJ-MM-TT)\"],\n",
    "                                            v[\"URL\"]).replace('\\n', '').replace('\\t', '')\n",
    "    length.append(len(tweet))\n",
    "    if len(tweet) > 280:\n",
    "        long_tweets.append(tweet)\n",
    "print(\"{} Tweets are shorter then 280 chars.\".format(len(list(filter(lambda x: x<=280, length)))))"
   ]
  },
  {
   "cell_type": "code",
   "execution_count": null,
   "id": "d361950c",
   "metadata": {
    "collapsed": false,
    "jupyter": {
     "outputs_hidden": false
    },
    "pycharm": {
     "name": "#%%\n"
    }
   },
   "outputs": [],
   "source": [
    "import numpy as np\n",
    "\n",
    "def generate_next_day(d, m, y):\n",
    "    months = {1: 31, 2:28, 3: 31, 4: 30, 5: 31, 6: 30, 7: 31, 8: 31, 9: 30, 10: 31, 11: 30, 12: 31}\n",
    "    d = d + 1\n",
    "    if d > months[m]:\n",
    "        d = 1\n",
    "        m +=1\n",
    "        if m > 12:\n",
    "            m = 1\n",
    "            y += 1\n",
    "    return y, m, d\n",
    "\n",
    "tweets_df = pd.DataFrame(columns=[\"Date\", \"Time\", \"Tweet\", \"Picture\", \"Longitude\", \"Lattitude\"])\n",
    "geo_data = pd.read_csv(\"lib/CdS_Places.csv\", encoding=\"utf8\", index_col='id')\n",
    "\n",
    "day = (2021, 11, 26)\n",
    "change = 0\n",
    "for i, v in df_cds.iterrows():\n",
    "    row = {}\n",
    "    tweet = '\"{0}\" à {1}, {2} ({3})'.format(str(v[\"Anfang des Briefes\"]),\n",
    "                                            v[\" Empfänger\"].split(', ')[0] if type(v[\" Empfänger\"]) is str else 'N.N.',\n",
    "                                            v[\"Datierung (JJJJ-MM-TT)\"],\n",
    "                                            v[\"URL\"])\n",
    "    if len(tweet) > 280: continue\n",
    "    row[\"Tweet\"] = tweet\n",
    "    row[\"Date\"] = \"{}.{}.{}\".format(day[2], day[1], day[0])\n",
    "    time_tweet = \"\"\n",
    "    h = np.random.randint(7, 21)\n",
    "    m = np.random.randint(0, 59)\n",
    "    s = np.random.randint(0, 59)\n",
    "    h = str(h) if len(str(h)) == 2 else \"0\" + str(h)\n",
    "    m = str(m) if len(str(m)) == 2 else \"0\" + str(m)\n",
    "    s = str(s) if len(str(s)) == 2 else \"0\" + str(s)\n",
    "    row[\"Time\"] = \"{}:{}:{}\".format(h, m, s)\n",
    "    geo_information = geo_data.loc[geo_data.url == v['Geonames (Ausstellungsort)']]\n",
    "    try:\n",
    "        row[\"Longitude\"] = geo_information.iloc[0]['long']\n",
    "        row[\"Lattitude\"] = geo_information.iloc[0]['lat']\n",
    "    except IndexError:\n",
    "        True\n",
    "    if change == 1:\n",
    "        day = generate_next_day(day[2], day[1], day[0])\n",
    "        change = 0\n",
    "    else:\n",
    "        change += 1\n",
    "    tweets_df = tweets_df.append(row, ignore_index=True)"
   ]
  },
  {
   "cell_type": "code",
   "execution_count": null,
   "id": "249c1c5c",
   "metadata": {
    "collapsed": false,
    "jupyter": {
     "outputs_hidden": false
    },
    "pycharm": {
     "name": "#%%\n"
    }
   },
   "outputs": [],
   "source": [
    "tweets_df"
   ]
  },
  {
   "cell_type": "code",
   "execution_count": null,
   "id": "582cda32",
   "metadata": {
    "collapsed": false,
    "jupyter": {
     "outputs_hidden": false
    },
    "pycharm": {
     "name": "#%%\n"
    }
   },
   "outputs": [],
   "source": [
    "tweets_df.to_excel(\"lib/Lettre_de_CdS.xlsx\", encoding=\"utf8\")\n",
    "tweets_df.to_csv(\"lib/Lettre_de_CdS.tsv\", encoding=\"utf8\", sep=\"\\t\")"
   ]
  },
  {
   "cell_type": "markdown",
   "id": "7fe4020c",
   "metadata": {
    "pycharm": {
     "name": "#%% md\n"
    }
   },
   "source": [
    "## Creating Flashcards\n",
    "We start now with the Creation of the Flashcards based on the script found in the directory \"flash_cards\".\n",
    "The cards will be saved into the directory: \"flash_cards_png\"."
   ]
  },
  {
   "cell_type": "code",
   "execution_count": null,
   "id": "cc70c17d",
   "metadata": {
    "collapsed": false,
    "jupyter": {
     "outputs_hidden": false
    },
    "pycharm": {
     "name": "#%%\n"
    }
   },
   "outputs": [],
   "source": [
    "from flash_cards.convert_svg import *\n",
    "\n",
    "file = open('flash_cards/flashcard_cds.svg', encoding='utf8')\n",
    "svg_format = file.read()\n",
    "file.close()\n",
    "\n",
    "for i, v in df_cds.iterrows():\n",
    "    row = {}\n",
    "    text = str(v[\"Anfang des Briefes\"]).replace('\\n', '').replace('\\t', '').replace('  ', ' ').strip() + ' ...'\n",
    "    flash_card_text = create_flashcard_text(text)\n",
    "    flash_card = svg_format.format(text=flash_card_text,\n",
    "                                   date=v[\"Datierung (JJJJ-MM-TT)\"],\n",
    "                                   name=v[\" Empfänger\"].split(', ')[0] if type(v[\" Empfänger\"]) is str else 'N.N.')\n",
    "    with open('flash_cards/CdS_Test.svg', 'w', encoding='utf8') as f:\n",
    "        f.write(flash_card)\n",
    "\n",
    "    row[\"Tweet\"] = v[\"URL\"]\n",
    "    row[\"Date\"] = \"{}.{}.{}\".format(day[2], day[1], day[0])\n",
    "    time_tweet = \"\"\n",
    "    h = np.random.randint(7, 21)\n",
    "    m = np.random.randint(0, 59)\n",
    "    s = np.random.randint(0, 59)\n",
    "    h = str(h) if len(str(h)) == 2 else \"0\" + str(h)\n",
    "    m = str(m) if len(str(m)) == 2 else \"0\" + str(m)\n",
    "    s = str(s) if len(str(s)) == 2 else \"0\" + str(s)\n",
    "    row[\"Time\"] = \"{}:{}:{}\".format(h, m, s)\n",
    "    geo_information = geo_data.loc[geo_data.url == v['Geonames (Ausstellungsort)']]\n",
    "    try:\n",
    "        row[\"Longitude\"] = geo_information.iloc[0]['long']\n",
    "        row[\"Lattitude\"] = geo_information.iloc[0]['lat']\n",
    "    except IndexError:\n",
    "        True\n",
    "    if change == 1:\n",
    "        day = generate_next_day(day[2], day[1], day[0])\n",
    "        change = 0\n",
    "    else:\n",
    "        change += 1\n",
    "    tweets_df = tweets_df.append(row, ignore_index=True)\n",
    "    convert_svg('flash_cards/CdS_Test.svg', 'flash_cards/png/{}.png'.format(v[\"FuD-Key\"]))\n",
    "    break"
   ]
  },
  {
   "cell_type": "markdown",
   "id": "e7588150",
   "metadata": {
    "pycharm": {
     "name": "#%% md\n"
    }
   },
   "source": [
    "## Visualizing the Informations ##"
   ]
  },
  {
   "cell_type": "code",
   "execution_count": null,
   "id": "74690268",
   "metadata": {
    "collapsed": false,
    "jupyter": {
     "outputs_hidden": false
    },
    "pycharm": {
     "name": "#%%\n"
    }
   },
   "outputs": [],
   "source": [
    "#!pip install geopandas\n",
    "#!pip install geoplot\n",
    "#import geopandas as gp\n",
    "#import geoplot as gplt\n",
    "#from shapely.geometry import Point\n",
    "import folium"
   ]
  },
  {
   "cell_type": "code",
   "execution_count": null,
   "id": "00a63316",
   "metadata": {
    "collapsed": false,
    "jupyter": {
     "outputs_hidden": false
    },
    "pycharm": {
     "name": "#%%\n"
    }
   },
   "outputs": [],
   "source": [
    "m = folium.Map()\n",
    "geo_data = pd.read_csv(\"lib/CdS_Places.csv\", encoding=\"utf8\", index_col='id')\n",
    "\n",
    "for i, v in df_cds.iterrows():\n",
    "    geo_information = geo_data.loc[geo_data.url == v['Geonames (Ausstellungsort)']]\n",
    "    try:\n",
    "        lng = geo_information.iloc[0]['long']\n",
    "        lat = geo_information.iloc[0]['lat']\n",
    "        folium.Marker([lat, lng],\n",
    "                      popup=\"<i>à {}, le </i>\".format(v[\"Anfang des Briefes\"]),\n",
    "                      tooltip=\"à {}, le \".format(v[\" Empfänger\"].split(', ')[0] if type(v[\" Empfänger\"]) is str else 'N.N.', v[\"Datierung (JJJJ-MM-TT)\"])).add_to(m)\n",
    "    except IndexError:\n",
    "        True"
   ]
  }
 ],
 "metadata": {
  "kernelspec": {
   "display_name": "Python 3 (ipykernel)",
   "language": "python",
   "name": "python3"
  },
  "language_info": {
   "codemirror_mode": {
    "name": "ipython",
    "version": 3
   },
   "file_extension": ".py",
   "mimetype": "text/x-python",
   "name": "python",
   "nbconvert_exporter": "python",
   "pygments_lexer": "ipython3",
   "version": "3.9.9"
  }
 },
 "nbformat": 4,
 "nbformat_minor": 5
}
