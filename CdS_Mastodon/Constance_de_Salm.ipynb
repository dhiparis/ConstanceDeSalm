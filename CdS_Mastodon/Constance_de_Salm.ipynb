{
 "cells": [
  {
   "cell_type": "markdown",
   "id": "2cc94755-0119-4768-8510-4ed34cca1ca4",
   "metadata": {},
   "source": [
    "# Constance de Salm #\n",
    "\n",
    "Extracting and generating Tweets for CdS. Twtteraccound: https://twitter.com/constancesalm\n",
    "\n",
    "Importing the needed libraries."
   ]
  },
  {
   "cell_type": "code",
   "execution_count": 1,
   "id": "e90ed171-1e19-4e27-b588-4fc35b756bea",
   "metadata": {},
   "outputs": [],
   "source": [
    "import pandas as pd\n",
    "import re"
   ]
  },
  {
   "cell_type": "markdown",
   "id": "14f543be-d8b4-4b0a-a79a-8eaf4d3acd69",
   "metadata": {
    "pycharm": {
     "name": "#%% md\n"
    }
   },
   "source": [
    "Loading the Dataset via pandas."
   ]
  },
  {
   "cell_type": "code",
   "execution_count": 2,
   "id": "67268c86",
   "metadata": {
    "collapsed": false,
    "jupyter": {
     "outputs_hidden": false
    },
    "pycharm": {
     "name": "#%%\n"
    }
   },
   "outputs": [
    {
     "name": "stdout",
     "output_type": "stream",
     "text": [
      "['FuD-Key', 'letzte Änderung', 'Dokumenttyp', 'URL', 'Nr.', 'Verfasser', 'GND (Verfasser)', 'VIAF (Verfasser)', ' Empfänger', 'GND (Empfänger)', 'VIAF (Empfänger)', 'Datierung (JJJJ-MM-TT)', 'Alternative Datierung', 'Ausstellungsort', 'Geonames (Ausstellungsort)', 'Empfangsort', 'Geonames (Empfangsort)', 'Vorlage', 'Vollständigkeit des Archivals', 'Erläuterung Unvollständigkeit', 'Umfang in Seiten', 'Anfang des Briefes', 'Inhaltliche Stichpunkte', 'Weitere Personen', 'GND (Weitere Personen)', 'VIAF (Weitere Personen)', 'Orte', 'Geonames (Orte)', 'Schlagwörter', 'Editionen', 'Vermerk', 'Bestand', 'Verweise', 'Digitalisate: Dateiname (Signatur)', 'Zitierempfehlung']\n"
     ]
    }
   ],
   "source": [
    "df = pd.read_csv(\"lib/20211116_Constance_de_Salm_Korrespondenz_Inventar_Briefe.csv\", sep=';', encoding='utf8')\n",
    "print(list(df))"
   ]
  },
  {
   "cell_type": "markdown",
   "id": "5964b470",
   "metadata": {
    "pycharm": {
     "name": "#%% md\n"
    }
   },
   "source": [
    "Extracting just the letters which were by Constance de Salm herself."
   ]
  },
  {
   "cell_type": "code",
   "execution_count": 3,
   "id": "96d161c2-4d97-46db-a75d-79ef1345e31c",
   "metadata": {},
   "outputs": [],
   "source": [
    "\n",
    "df_cds = pd.DataFrame(columns=list(df))\n",
    "for i, v in df.iterrows():\n",
    "    if type(v[\"Verfasser\"]) is not str: continue\n",
    "    if re.search(r'.*Constance.*', v[\"Verfasser\"]):\n",
    "        df_cds = df_cds.append(v, ignore_index=True)"
   ]
  },
  {
   "cell_type": "markdown",
   "id": "df7533fd",
   "metadata": {
    "pycharm": {
     "name": "#%% md\n"
    }
   },
   "source": [
    "## Generating the tweets ##\n",
    "How many Tweets can be used for the Twitter-Account (based on the length, which is limited by Twitter [280])\n"
   ]
  },
  {
   "cell_type": "code",
   "execution_count": 4,
   "id": "00b3cc74",
   "metadata": {
    "collapsed": false,
    "jupyter": {
     "outputs_hidden": false
    },
    "pycharm": {
     "name": "#%%\n"
    }
   },
   "outputs": [
    {
     "name": "stdout",
     "output_type": "stream",
     "text": [
      "2764 Tweets are shorter then 280 chars.\n"
     ]
    }
   ],
   "source": [
    "length = []\n",
    "long_tweets = []\n",
    "for i, v in df_cds.iterrows():\n",
    "    tweet = '\"{0}...\" à {1}, {2} ({3})'.format(v[\"Anfang des Briefes\"],\n",
    "                                            v[\" Empfänger\"],\n",
    "                                            v[\"Datierung (JJJJ-MM-TT)\"],\n",
    "                                            v[\"URL\"]).replace('\\n', '').replace('\\t', '')\n",
    "    length.append(len(tweet))\n",
    "    if len(tweet) > 280:\n",
    "        long_tweets.append(tweet)\n",
    "print(\"{} Tweets are shorter then 280 chars.\".format(len(list(filter(lambda x: x<=280, length)))))"
   ]
  },
  {
   "cell_type": "code",
   "execution_count": 5,
   "id": "d361950c",
   "metadata": {
    "collapsed": false,
    "jupyter": {
     "outputs_hidden": false
    },
    "pycharm": {
     "name": "#%%\n"
    }
   },
   "outputs": [],
   "source": [
    "import numpy as np\n",
    "\n",
    "def generate_next_day(d, m, y):\n",
    "    months = {1: 31, 2:28, 3: 31, 4: 30, 5: 31, 6: 30, 7: 31, 8: 31, 9: 30, 10: 31, 11: 30, 12: 31}\n",
    "    d = d + 1\n",
    "    if d > months[m]:\n",
    "        d = 1\n",
    "        m +=1\n",
    "        if m > 12:\n",
    "            m = 1\n",
    "            y += 1\n",
    "    return y, m, d\n",
    "\n",
    "tweets_df = pd.DataFrame(columns=[\"Date\", \"Time\", \"Tweet\", \"Picture\", \"Longitude\", \"Lattitude\"])\n",
    "geo_data = pd.read_csv(\"lib/CdS_Places.csv\", encoding=\"utf8\", index_col='id')\n",
    "\n",
    "day = (2021, 11, 26)\n",
    "change = 0\n",
    "for i, v in df_cds.iterrows():\n",
    "    row = {}\n",
    "    tweet = '\"{0}\" à {1}, {2} ({3})'.format(str(v[\"Anfang des Briefes\"]),\n",
    "                                            v[\" Empfänger\"].split(', ')[0] if type(v[\" Empfänger\"]) is str else 'N.N.',\n",
    "                                            v[\"Datierung (JJJJ-MM-TT)\"],\n",
    "                                            v[\"URL\"])\n",
    "    if len(tweet) > 280: continue\n",
    "    row[\"Tweet\"] = tweet\n",
    "    row[\"Date\"] = \"{}.{}.{}\".format(day[2], day[1], day[0])\n",
    "    time_tweet = \"\"\n",
    "    h = np.random.randint(7, 21)\n",
    "    m = np.random.randint(0, 59)\n",
    "    s = np.random.randint(0, 59)\n",
    "    h = str(h) if len(str(h)) == 2 else \"0\" + str(h)\n",
    "    m = str(m) if len(str(m)) == 2 else \"0\" + str(m)\n",
    "    s = str(s) if len(str(s)) == 2 else \"0\" + str(s)\n",
    "    row[\"Time\"] = \"{}:{}:{}\".format(h, m, s)\n",
    "    geo_information = geo_data.loc[geo_data.url == v['Geonames (Ausstellungsort)']]\n",
    "    try:\n",
    "        row[\"Longitude\"] = geo_information.iloc[0]['long']\n",
    "        row[\"Lattitude\"] = geo_information.iloc[0]['lat']\n",
    "    except IndexError:\n",
    "        pass\n",
    "    if change == 1:\n",
    "        day = generate_next_day(day[2], day[1], day[0])\n",
    "        change = 0\n",
    "    else:\n",
    "        change += 1\n",
    "    tweets_df = tweets_df.append(row, ignore_index=True)"
   ]
  },
  {
   "cell_type": "code",
   "execution_count": 6,
   "id": "249c1c5c",
   "metadata": {
    "collapsed": false,
    "jupyter": {
     "outputs_hidden": false
    },
    "pycharm": {
     "name": "#%%\n"
    }
   },
   "outputs": [
    {
     "data": {
      "text/html": [
       "<div>\n",
       "<style scoped>\n",
       "    .dataframe tbody tr th:only-of-type {\n",
       "        vertical-align: middle;\n",
       "    }\n",
       "\n",
       "    .dataframe tbody tr th {\n",
       "        vertical-align: top;\n",
       "    }\n",
       "\n",
       "    .dataframe thead th {\n",
       "        text-align: right;\n",
       "    }\n",
       "</style>\n",
       "<table border=\"1\" class=\"dataframe\">\n",
       "  <thead>\n",
       "    <tr style=\"text-align: right;\">\n",
       "      <th></th>\n",
       "      <th>Date</th>\n",
       "      <th>Time</th>\n",
       "      <th>Tweet</th>\n",
       "      <th>Picture</th>\n",
       "      <th>Longitude</th>\n",
       "      <th>Lattitude</th>\n",
       "    </tr>\n",
       "  </thead>\n",
       "  <tbody>\n",
       "    <tr>\n",
       "      <th>0</th>\n",
       "      <td>26.11.2021</td>\n",
       "      <td>09:34:53</td>\n",
       "      <td>\"Cher et excellent voisin, j'ai remis de jour ...</td>\n",
       "      <td>NaN</td>\n",
       "      <td>6.50000</td>\n",
       "      <td>51.10000</td>\n",
       "    </tr>\n",
       "    <tr>\n",
       "      <th>1</th>\n",
       "      <td>26.11.2021</td>\n",
       "      <td>12:47:11</td>\n",
       "      <td>\"Je vais retourner à Paris dans 15 jours, Mons...</td>\n",
       "      <td>NaN</td>\n",
       "      <td>6.50000</td>\n",
       "      <td>51.10000</td>\n",
       "    </tr>\n",
       "    <tr>\n",
       "      <th>2</th>\n",
       "      <td>27.11.2021</td>\n",
       "      <td>07:42:02</td>\n",
       "      <td>\"Nous avons bien regretté, Monsieur, de ne pas...</td>\n",
       "      <td>NaN</td>\n",
       "      <td>6.50000</td>\n",
       "      <td>51.10000</td>\n",
       "    </tr>\n",
       "    <tr>\n",
       "      <th>3</th>\n",
       "      <td>27.11.2021</td>\n",
       "      <td>08:24:13</td>\n",
       "      <td>\"Je ne vous ai pas encore écrit, Monsieur,\" à ...</td>\n",
       "      <td>NaN</td>\n",
       "      <td>6.50000</td>\n",
       "      <td>51.10000</td>\n",
       "    </tr>\n",
       "    <tr>\n",
       "      <th>4</th>\n",
       "      <td>28.11.2021</td>\n",
       "      <td>09:01:26</td>\n",
       "      <td>\"Je ne serai jamais embarrassée, Monsieur, qua...</td>\n",
       "      <td>NaN</td>\n",
       "      <td>NaN</td>\n",
       "      <td>NaN</td>\n",
       "    </tr>\n",
       "    <tr>\n",
       "      <th>...</th>\n",
       "      <td>...</td>\n",
       "      <td>...</td>\n",
       "      <td>...</td>\n",
       "      <td>...</td>\n",
       "      <td>...</td>\n",
       "      <td>...</td>\n",
       "    </tr>\n",
       "    <tr>\n",
       "      <th>2804</th>\n",
       "      <td>29.9.2025</td>\n",
       "      <td>15:14:20</td>\n",
       "      <td>\"Je n’entends point parler de vous, Monsieur, ...</td>\n",
       "      <td>NaN</td>\n",
       "      <td>6.50000</td>\n",
       "      <td>51.10000</td>\n",
       "    </tr>\n",
       "    <tr>\n",
       "      <th>2805</th>\n",
       "      <td>29.9.2025</td>\n",
       "      <td>10:26:40</td>\n",
       "      <td>\"Vous aurez peut-être été surpris, Monsieur, d...</td>\n",
       "      <td>NaN</td>\n",
       "      <td>6.08342</td>\n",
       "      <td>50.77664</td>\n",
       "    </tr>\n",
       "    <tr>\n",
       "      <th>2806</th>\n",
       "      <td>30.9.2025</td>\n",
       "      <td>07:42:56</td>\n",
       "      <td>\"Je reçois à l'instant votre lettre de la camp...</td>\n",
       "      <td>NaN</td>\n",
       "      <td>6.50000</td>\n",
       "      <td>51.10000</td>\n",
       "    </tr>\n",
       "    <tr>\n",
       "      <th>2807</th>\n",
       "      <td>30.9.2025</td>\n",
       "      <td>19:47:18</td>\n",
       "      <td>\"J’ai bien tardé à répondre à votre dernière l...</td>\n",
       "      <td>NaN</td>\n",
       "      <td>NaN</td>\n",
       "      <td>NaN</td>\n",
       "    </tr>\n",
       "    <tr>\n",
       "      <th>2808</th>\n",
       "      <td>1.10.2025</td>\n",
       "      <td>19:36:21</td>\n",
       "      <td>\"J'arrive d'Aix-la-Chapelle, Monsieur, où, com...</td>\n",
       "      <td>NaN</td>\n",
       "      <td>6.50000</td>\n",
       "      <td>51.10000</td>\n",
       "    </tr>\n",
       "  </tbody>\n",
       "</table>\n",
       "<p>2809 rows × 6 columns</p>\n",
       "</div>"
      ],
      "text/plain": [
       "            Date      Time                                              Tweet  \\\n",
       "0     26.11.2021  09:34:53  \"Cher et excellent voisin, j'ai remis de jour ...   \n",
       "1     26.11.2021  12:47:11  \"Je vais retourner à Paris dans 15 jours, Mons...   \n",
       "2     27.11.2021  07:42:02  \"Nous avons bien regretté, Monsieur, de ne pas...   \n",
       "3     27.11.2021  08:24:13  \"Je ne vous ai pas encore écrit, Monsieur,\" à ...   \n",
       "4     28.11.2021  09:01:26  \"Je ne serai jamais embarrassée, Monsieur, qua...   \n",
       "...          ...       ...                                                ...   \n",
       "2804   29.9.2025  15:14:20  \"Je n’entends point parler de vous, Monsieur, ...   \n",
       "2805   29.9.2025  10:26:40  \"Vous aurez peut-être été surpris, Monsieur, d...   \n",
       "2806   30.9.2025  07:42:56  \"Je reçois à l'instant votre lettre de la camp...   \n",
       "2807   30.9.2025  19:47:18  \"J’ai bien tardé à répondre à votre dernière l...   \n",
       "2808   1.10.2025  19:36:21  \"J'arrive d'Aix-la-Chapelle, Monsieur, où, com...   \n",
       "\n",
       "      Picture  Longitude  Lattitude  \n",
       "0         NaN    6.50000   51.10000  \n",
       "1         NaN    6.50000   51.10000  \n",
       "2         NaN    6.50000   51.10000  \n",
       "3         NaN    6.50000   51.10000  \n",
       "4         NaN        NaN        NaN  \n",
       "...       ...        ...        ...  \n",
       "2804      NaN    6.50000   51.10000  \n",
       "2805      NaN    6.08342   50.77664  \n",
       "2806      NaN    6.50000   51.10000  \n",
       "2807      NaN        NaN        NaN  \n",
       "2808      NaN    6.50000   51.10000  \n",
       "\n",
       "[2809 rows x 6 columns]"
      ]
     },
     "execution_count": 6,
     "metadata": {},
     "output_type": "execute_result"
    }
   ],
   "source": [
    "tweets_df"
   ]
  },
  {
   "cell_type": "code",
   "execution_count": 7,
   "id": "582cda32",
   "metadata": {
    "collapsed": false,
    "jupyter": {
     "outputs_hidden": false
    },
    "pycharm": {
     "name": "#%%\n"
    }
   },
   "outputs": [],
   "source": [
    "tweets_df.to_excel(\"lib/Lettre_de_CdS.xlsx\", encoding=\"utf8\")\n",
    "tweets_df.to_csv(\"lib/Lettre_de_CdS.tsv\", encoding=\"utf8\", sep=\"\\t\")"
   ]
  },
  {
   "cell_type": "markdown",
   "id": "7fe4020c",
   "metadata": {
    "pycharm": {
     "name": "#%% md\n"
    }
   },
   "source": [
    "## Creating Flashcards\n",
    "We start now with the Creation of the Flashcards based on the script found in the directory \"flash_cards\".\n",
    "The cards will be saved into the directory: \"flash_cards_png\"."
   ]
  },
  {
   "cell_type": "code",
   "execution_count": 8,
   "id": "cc70c17d",
   "metadata": {
    "collapsed": false,
    "jupyter": {
     "outputs_hidden": false
    },
    "pycharm": {
     "name": "#%%\n"
    }
   },
   "outputs": [],
   "source": [
    "from flash_cards.convert_svg import *\n",
    "day = (2021, 11, 26)\n",
    "tweets_df = pd.DataFrame(columns=[\"Date\", \"Time\", \"Tweet\", \"Picture\", \"Longitude\", \"Lattitude\"])\n",
    "file = open('flash_cards/flashcard_cds.svg', encoding='utf8')\n",
    "svg_format = file.read()\n",
    "file.close()\n",
    "c = 0\n",
    "for i, v in df_cds.iterrows():\n",
    "    row = {}\n",
    "    if type(v[\"Datierung (JJJJ-MM-TT)\"]) is str:\n",
    "        tmp_date = v[\"Datierung (JJJJ-MM-TT)\"].split('-')\n",
    "        datierung = '{}.{}.{}'.format(tmp_date[2], tmp_date[1], tmp_date[0]) if len(tmp_date) > 0 else ''\n",
    "    text = str(v[\"Anfang des Briefes\"]).replace('\\n', '').replace('\\t', '').replace('  ', ' ').strip() + ' ...'\n",
    "    flash_card_text = create_flashcard_text(text)\n",
    "    flash_card = svg_format.format(text=flash_card_text,\n",
    "                                   date=datierung,\n",
    "                                   name='à ' + v[\" Empfänger\"].split(', ')[0] if type(v[\" Empfänger\"]) is str else 'N.N.')\n",
    "    with open('flash_cards/CdS_Formal.svg', 'w', encoding='utf8') as f:\n",
    "        f.write(flash_card)\n",
    "\n",
    "    tweet = '\"{0}...\" à {1}, {2} ({3})'.format(str(v[\"Anfang des Briefes\"]),\n",
    "                                            v[\" Empfänger\"].split(', ')[0] if type(v[\" Empfänger\"]) is str else 'N.N.',\n",
    "                                            v[\"Datierung (JJJJ-MM-TT)\"],\n",
    "                                            v[\"URL\"]).replace('\\n', '').replace('\\t', '').replace('  ', ' ').strip()\n",
    "    row[\"Tweet\"] = tweet if len(tweet) < 280 else 'Constance de Salm à {}, le {} ({})'.format(v[\" Empfänger\"].split(', ')[0] if type(v[\" Empfänger\"]) is str else 'N.N.',\n",
    "                                                                                              v[\"Datierung (JJJJ-MM-TT)\"],\n",
    "                                                                                              v[\"URL\"]).replace('\\n', '').replace('\\t', '').replace('  ', ' ').strip()\n",
    "    row[\"Date\"] = \"{}.{}.{}\".format(day[2], day[1], day[0])\n",
    "    time_tweet = \"\"\n",
    "    h = np.random.randint(7, 21)\n",
    "    m = np.random.randint(0, 59)\n",
    "    s = np.random.randint(0, 59)\n",
    "    h = str(h) if len(str(h)) == 2 else \"0\" + str(h)\n",
    "    m = str(m) if len(str(m)) == 2 else \"0\" + str(m)\n",
    "    s = str(s) if len(str(s)) == 2 else \"0\" + str(s)\n",
    "    row[\"Time\"] = \"{}:{}:{}\".format(h, m, s)\n",
    "    geo_information = geo_data.loc[geo_data.url == v['Geonames (Ausstellungsort)']]\n",
    "    try:\n",
    "        row[\"Longitude\"] = str(geo_information.iloc[0]['long'])\n",
    "        row[\"Lattitude\"] = str(geo_information.iloc[0]['lat'])\n",
    "    except IndexError:\n",
    "        pass\n",
    "    if change == 1:\n",
    "        day = generate_next_day(day[2], day[1], day[0])\n",
    "        change = 0\n",
    "    else:\n",
    "        change += 1\n",
    "    row[\"Picture\"] = \"https://raw.githubusercontent.com/dhiparis/ConstanceDeSalm/main/CdS_Twitter/flash_cards/png/{}.png\".format(v[\"FuD-Key\"])\n",
    "    tweets_df = tweets_df.append(row, ignore_index=True)\n",
    "    convert_svg('flash_cards/CdS_Formal.svg', 'flash_cards/png/{}.png'.format(v[\"FuD-Key\"]))\n",
    "    c += 1\n",
    "    "
   ]
  },
  {
   "cell_type": "code",
   "execution_count": null,
   "id": "b9e91193-0698-40cb-a11d-fdc79fe18140",
   "metadata": {},
   "outputs": [],
   "source": []
  },
  {
   "cell_type": "code",
   "execution_count": 9,
   "id": "d3759593-9944-47ad-aaec-c47867a5a1ea",
   "metadata": {},
   "outputs": [],
   "source": [
    "tweets_df.to_excel(\"lib/Lettre_de_CdS.xlsx\", encoding=\"utf8\")\n",
    "tweets_df.to_csv(\"lib/Lettre_de_CdS.tsv\", encoding=\"utf8\", sep=\"\\t\")"
   ]
  },
  {
   "cell_type": "markdown",
   "id": "e7588150",
   "metadata": {
    "pycharm": {
     "name": "#%% md\n"
    }
   },
   "source": [
    "## Visualizing the Informations ##"
   ]
  },
  {
   "cell_type": "code",
   "execution_count": 10,
   "id": "74690268",
   "metadata": {
    "collapsed": false,
    "jupyter": {
     "outputs_hidden": false
    },
    "pycharm": {
     "name": "#%%\n"
    }
   },
   "outputs": [],
   "source": "import folium"
  },
  {
   "cell_type": "code",
   "execution_count": 11,
   "id": "00a63316",
   "metadata": {
    "collapsed": false,
    "jupyter": {
     "outputs_hidden": false
    },
    "pycharm": {
     "name": "#%%\n"
    }
   },
   "outputs": [],
   "source": [
    "m = folium.Map()\n",
    "geo_data = pd.read_csv(\"lib/CdS_Places.csv\", encoding=\"utf8\", index_col='id')\n",
    "\n",
    "for i, v in df_cds.iterrows():\n",
    "    geo_information = geo_data.loc[geo_data.url == v['Geonames (Ausstellungsort)']]\n",
    "    try:\n",
    "        lng = geo_information.iloc[0]['long']\n",
    "        lat = geo_information.iloc[0]['lat']\n",
    "        folium.Marker([lat, lng],\n",
    "                      popup=\"<i>à {}, le </i>\".format(v[\"Anfang des Briefes\"]),\n",
    "                      tooltip=\"à {}, le \".format(v[\" Empfänger\"].split(', ')[0] if type(v[\" Empfänger\"]) is str else 'N.N.', v[\"Datierung (JJJJ-MM-TT)\"])).add_to(m)\n",
    "    except IndexError:\n",
    "        pass"
   ]
  }
 ],
 "metadata": {
  "kernelspec": {
   "display_name": "Python 3 (ipykernel)",
   "language": "python",
   "name": "python3"
  },
  "language_info": {
   "codemirror_mode": {
    "name": "ipython",
    "version": 3
   },
   "file_extension": ".py",
   "mimetype": "text/x-python",
   "name": "python",
   "nbconvert_exporter": "python",
   "pygments_lexer": "ipython3",
   "version": "3.9.9"
  }
 },
 "nbformat": 4,
 "nbformat_minor": 5
}
