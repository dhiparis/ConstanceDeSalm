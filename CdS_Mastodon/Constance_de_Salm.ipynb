{
 "cells": [
  {
   "cell_type": "markdown",
   "id": "2cc94755-0119-4768-8510-4ed34cca1ca4",
   "metadata": {},
   "source": [
    "# Constance de Salm #\n",
    "\n",
    "Extracting and generating T for CdS. Twtteraccound: https://twitter.com/constancesalm\n",
    "\n",
    "Importing the needed libraries."
   ]
  },
  {
   "cell_type": "code",
   "id": "e90ed171-1e19-4e27-b588-4fc35b756bea",
   "metadata": {
    "ExecuteTime": {
     "end_time": "2024-06-22T12:59:21.256489Z",
     "start_time": "2024-06-22T12:59:20.698725Z"
    }
   },
   "source": [
    "import pandas as pd\n",
    "import numpy as np\n",
    "import re\n",
    "from flash_cards.convert_svg import *"
   ],
   "outputs": [],
   "execution_count": 1
  },
  {
   "cell_type": "markdown",
   "id": "14f543be-d8b4-4b0a-a79a-8eaf4d3acd69",
   "metadata": {
    "pycharm": {
     "name": "#%% md\n"
    }
   },
   "source": [
    "Loading the Dataset via pandas."
   ]
  },
  {
   "cell_type": "code",
   "id": "67268c86",
   "metadata": {
    "collapsed": false,
    "jupyter": {
     "outputs_hidden": false
    },
    "pycharm": {
     "name": "#%%\n"
    },
    "ExecuteTime": {
     "end_time": "2024-06-22T12:59:22.757778Z",
     "start_time": "2024-06-22T12:59:22.268131Z"
    }
   },
   "source": [
    "df = pd.read_csv(\"lib/20211116_Constance_de_Salm_Korrespondenz_Inventar_Briefe.csv\", sep=';', encoding='utf8')\n",
    "print(list(df))"
   ],
   "outputs": [
    {
     "name": "stdout",
     "output_type": "stream",
     "text": [
      "['FuD-Key', 'letzte Änderung', 'Dokumenttyp', 'URL', 'Nr.', 'Verfasser', 'GND (Verfasser)', 'VIAF (Verfasser)', ' Empfänger', 'GND (Empfänger)', 'VIAF (Empfänger)', 'Datierung (JJJJ-MM-TT)', 'Alternative Datierung', 'Ausstellungsort', 'Geonames (Ausstellungsort)', 'Empfangsort', 'Geonames (Empfangsort)', 'Vorlage', 'Vollständigkeit des Archivals', 'Erläuterung Unvollständigkeit', 'Umfang in Seiten', 'Anfang des Briefes', 'Inhaltliche Stichpunkte', 'Weitere Personen', 'GND (Weitere Personen)', 'VIAF (Weitere Personen)', 'Orte', 'Geonames (Orte)', 'Schlagwörter', 'Editionen', 'Vermerk', 'Bestand', 'Verweise', 'Digitalisate: Dateiname (Signatur)', 'Zitierempfehlung']\n"
     ]
    }
   ],
   "execution_count": 2
  },
  {
   "cell_type": "markdown",
   "id": "5964b470",
   "metadata": {
    "pycharm": {
     "name": "#%% md\n"
    }
   },
   "source": [
    "Extracting just the letters which were by Constance de Salm herself."
   ]
  },
  {
   "cell_type": "code",
   "id": "96d161c2-4d97-46db-a75d-79ef1345e31c",
   "metadata": {
    "ExecuteTime": {
     "end_time": "2024-06-22T12:59:25.794208Z",
     "start_time": "2024-06-22T12:59:24.536165Z"
    }
   },
   "source": [
    "\n",
    "df_cds = pd.DataFrame(columns=list(df))\n",
    "rows = []\n",
    "for i, v in df.iterrows():\n",
    "    if type(v[\"Verfasser\"]) is not str: continue\n",
    "    if re.search(r'.*Constance.*', v[\"Verfasser\"]):\n",
    "        rows.append(v)\n",
    "df_cds = pd.DataFrame(rows)"
   ],
   "outputs": [],
   "execution_count": 3
  },
  {
   "cell_type": "markdown",
   "id": "df7533fd",
   "metadata": {
    "pycharm": {
     "name": "#%% md\n"
    }
   },
   "source": [
    "## Generating the toots ##\n",
    "How many toots can be used for the Mastodon-account (based on the length, which is limited by Twitter [500])\n"
   ]
  },
  {
   "cell_type": "code",
   "id": "00b3cc74",
   "metadata": {
    "collapsed": false,
    "jupyter": {
     "outputs_hidden": false
    },
    "pycharm": {
     "name": "#%%\n"
    },
    "ExecuteTime": {
     "end_time": "2024-06-22T12:59:27.496225Z",
     "start_time": "2024-06-22T12:59:27.196169Z"
    }
   },
   "source": [
    "length = []\n",
    "long_toots = []\n",
    "limit = 500\n",
    "for i, v in df_cds.iterrows():\n",
    "    toot = '\"{0}...\" à {1}, {2} ({3})'.format(v[\"Anfang des Briefes\"],\n",
    "                                            v[\" Empfänger\"],\n",
    "                                            v[\"Datierung (JJJJ-MM-TT)\"],\n",
    "                                            v[\"URL\"]).replace('\\n', '').replace('\\t', '')\n",
    "    length.append(len(toot))\n",
    "    if len(toot) > limit:\n",
    "        long_toots.append(toot)\n",
    "print(f'{len(list(filter(lambda x: x<=280, length)))} toots are shorter then 500 chars.')"
   ],
   "outputs": [
    {
     "name": "stdout",
     "output_type": "stream",
     "text": [
      "2764 toots are shorter then 500 chars.\n"
     ]
    }
   ],
   "execution_count": 4
  },
  {
   "cell_type": "code",
   "id": "d361950c",
   "metadata": {
    "collapsed": false,
    "jupyter": {
     "outputs_hidden": false
    },
    "pycharm": {
     "name": "#%%\n"
    },
    "ExecuteTime": {
     "end_time": "2024-06-22T12:59:33.345372Z",
     "start_time": "2024-06-22T12:59:33.040471Z"
    }
   },
   "source": [
    "def generate_next_day(d: int, m: int, y: int):\n",
    "    months = {1: 31, 2:28, 3: 31, 4: 30, 5: 31, 6: 30, 7: 31, 8: 31, 9: 30, 10: 31, 11: 30, 12: 31}\n",
    "    d = d + 1\n",
    "    if d > months[m]:\n",
    "        d = 1\n",
    "        m +=1\n",
    "        if m > 12:\n",
    "            m = 1\n",
    "            y += 1\n",
    "    return y, m, d\n",
    "\n",
    "\n",
    "geo_data = pd.read_csv(\"lib/CdS_Places.csv\", encoding=\"utf8\", index_col='id')\n",
    "file = open('flash_cards/flashcard_cds.svg', encoding='utf8')\n",
    "svg_format = file.read()\n",
    "file.close()\n",
    "rows = []\n",
    "day = (2024, 6, 25)\n",
    "change = 0\n",
    "for i, v in df_cds.iterrows():\n",
    "    row = {}\n",
    "    empf = v[\" Empfänger\"].split(', ')[0] if type(v[\" Empfänger\"]) is str else 'N.N.'\n",
    "    toot = f'\"{v[\"Anfang des Briefes\"]}\" à {empf}, {v[\"Datierung (JJJJ-MM-TT)\"]} ({v[\"URL\"]})'\n",
    "    if len(toot) > limit: continue\n",
    "    row[\"Toot\"] = toot\n",
    "    row[\"Date\"] = f'{day[2]}.{day[1]}.{day[0]}'\n",
    "    time_toot = ''\n",
    "    text = str(v[\"Anfang des Briefes\"]).replace('\\n', '').replace('\\t', '').replace('  ', ' ').strip() + ' ...'\n",
    "    # flash_card_text = create_flashcard_text(text)\n",
    "    # flash_card = svg_format.format(text=flash_card_text,\n",
    "    #                                date=row['Date'],\n",
    "    #                                name='à ' + v[\" Empfänger\"].split(', ')[0] if type(v[\" Empfänger\"]) is str else 'N.N.')\n",
    "    # with open('flash_cards/CdS_Formal.svg', 'w', encoding='utf8') as f:\n",
    "    #     f.write(flash_card)\n",
    "    h = np.random.randint(7, 11) if change == 0 else np.random.randint(16, 20)\n",
    "    minute = np.random.randint(0, 59)\n",
    "    s = np.random.randint(0, 59)\n",
    "    h = str(h) if len(str(h)) == 2 else \"0\" + str(h)\n",
    "    minute = str(minute) if len(str(minute)) == 2 else \"0\" + str(minute)\n",
    "    s = str(s) if len(str(s)) == 2 else \"0\" + str(s)\n",
    "    row[\"Time\"] = f'{h}:{minute}:{s}'\n",
    "    row[\"Picture\"] = f'https://owncloud.gwdg.de/index.php/apps/files_sharing/ajax/publicpreview.php?file=%2F%2F{v[\"FuD-Key\"]}.png&c=2026c47172154296b50a936a6d54a4d2&x=1024&y=1024&a=1&t=tb2La6rIG13gzBN'\n",
    "    rows.append(row)\n",
    "    # convert_svg('flash_cards/CdS_Formal.svg', f'flash_cards/png/{v[\"FuD-Key\"]}.png')\n",
    "    if change == 1:\n",
    "        day = generate_next_day(day[2], day[1], day[0])\n",
    "        change = 0\n",
    "    else:\n",
    "        change += 1\n",
    "toots_df = pd.DataFrame(rows, columns=[\"Date\", \"Time\", \"Toot\", \"Picture\"])"
   ],
   "outputs": [],
   "execution_count": 6
  },
  {
   "cell_type": "code",
   "id": "249c1c5c",
   "metadata": {
    "collapsed": false,
    "jupyter": {
     "outputs_hidden": false
    },
    "pycharm": {
     "name": "#%%\n"
    },
    "ExecuteTime": {
     "end_time": "2024-06-22T12:59:37.107283Z",
     "start_time": "2024-06-22T12:59:37.061930Z"
    }
   },
   "source": "toots_df",
   "outputs": [
    {
     "data": {
      "text/plain": [
       "           Date      Time                                               Toot  \\\n",
       "0     25.6.2024  08:54:45  \"Cher et excellent voisin, j'ai remis de jour ...   \n",
       "1     25.6.2024  18:29:41  \"Je vais retourner à Paris dans 15 jours, Mons...   \n",
       "2     26.6.2024  09:33:27  \"Nous avons bien regretté, Monsieur, de ne pas...   \n",
       "3     26.6.2024  16:57:17  \"Je ne vous ai pas encore écrit, Monsieur,\" à ...   \n",
       "4     27.6.2024  10:45:44  \"Je ne serai jamais embarrassée, Monsieur, qua...   \n",
       "...         ...       ...                                                ...   \n",
       "2807  29.4.2028  17:28:50  \"Je n’entends point parler de vous, Monsieur, ...   \n",
       "2808  30.4.2028  10:39:30  \"Vous aurez peut-être été surpris, Monsieur, d...   \n",
       "2809  30.4.2028  18:45:47  \"Je reçois à l'instant votre lettre de la camp...   \n",
       "2810   1.5.2028  10:24:30  \"J’ai bien tardé à répondre à votre dernière l...   \n",
       "2811   1.5.2028  17:40:18  \"J'arrive d'Aix-la-Chapelle, Monsieur, où, com...   \n",
       "\n",
       "                                                Picture  \n",
       "0     https://owncloud.gwdg.de/index.php/apps/files_...  \n",
       "1     https://owncloud.gwdg.de/index.php/apps/files_...  \n",
       "2     https://owncloud.gwdg.de/index.php/apps/files_...  \n",
       "3     https://owncloud.gwdg.de/index.php/apps/files_...  \n",
       "4     https://owncloud.gwdg.de/index.php/apps/files_...  \n",
       "...                                                 ...  \n",
       "2807  https://owncloud.gwdg.de/index.php/apps/files_...  \n",
       "2808  https://owncloud.gwdg.de/index.php/apps/files_...  \n",
       "2809  https://owncloud.gwdg.de/index.php/apps/files_...  \n",
       "2810  https://owncloud.gwdg.de/index.php/apps/files_...  \n",
       "2811  https://owncloud.gwdg.de/index.php/apps/files_...  \n",
       "\n",
       "[2812 rows x 4 columns]"
      ],
      "text/html": [
       "<div>\n",
       "<style scoped>\n",
       "    .dataframe tbody tr th:only-of-type {\n",
       "        vertical-align: middle;\n",
       "    }\n",
       "\n",
       "    .dataframe tbody tr th {\n",
       "        vertical-align: top;\n",
       "    }\n",
       "\n",
       "    .dataframe thead th {\n",
       "        text-align: right;\n",
       "    }\n",
       "</style>\n",
       "<table border=\"1\" class=\"dataframe\">\n",
       "  <thead>\n",
       "    <tr style=\"text-align: right;\">\n",
       "      <th></th>\n",
       "      <th>Date</th>\n",
       "      <th>Time</th>\n",
       "      <th>Toot</th>\n",
       "      <th>Picture</th>\n",
       "    </tr>\n",
       "  </thead>\n",
       "  <tbody>\n",
       "    <tr>\n",
       "      <th>0</th>\n",
       "      <td>25.6.2024</td>\n",
       "      <td>08:54:45</td>\n",
       "      <td>\"Cher et excellent voisin, j'ai remis de jour ...</td>\n",
       "      <td>https://owncloud.gwdg.de/index.php/apps/files_...</td>\n",
       "    </tr>\n",
       "    <tr>\n",
       "      <th>1</th>\n",
       "      <td>25.6.2024</td>\n",
       "      <td>18:29:41</td>\n",
       "      <td>\"Je vais retourner à Paris dans 15 jours, Mons...</td>\n",
       "      <td>https://owncloud.gwdg.de/index.php/apps/files_...</td>\n",
       "    </tr>\n",
       "    <tr>\n",
       "      <th>2</th>\n",
       "      <td>26.6.2024</td>\n",
       "      <td>09:33:27</td>\n",
       "      <td>\"Nous avons bien regretté, Monsieur, de ne pas...</td>\n",
       "      <td>https://owncloud.gwdg.de/index.php/apps/files_...</td>\n",
       "    </tr>\n",
       "    <tr>\n",
       "      <th>3</th>\n",
       "      <td>26.6.2024</td>\n",
       "      <td>16:57:17</td>\n",
       "      <td>\"Je ne vous ai pas encore écrit, Monsieur,\" à ...</td>\n",
       "      <td>https://owncloud.gwdg.de/index.php/apps/files_...</td>\n",
       "    </tr>\n",
       "    <tr>\n",
       "      <th>4</th>\n",
       "      <td>27.6.2024</td>\n",
       "      <td>10:45:44</td>\n",
       "      <td>\"Je ne serai jamais embarrassée, Monsieur, qua...</td>\n",
       "      <td>https://owncloud.gwdg.de/index.php/apps/files_...</td>\n",
       "    </tr>\n",
       "    <tr>\n",
       "      <th>...</th>\n",
       "      <td>...</td>\n",
       "      <td>...</td>\n",
       "      <td>...</td>\n",
       "      <td>...</td>\n",
       "    </tr>\n",
       "    <tr>\n",
       "      <th>2807</th>\n",
       "      <td>29.4.2028</td>\n",
       "      <td>17:28:50</td>\n",
       "      <td>\"Je n’entends point parler de vous, Monsieur, ...</td>\n",
       "      <td>https://owncloud.gwdg.de/index.php/apps/files_...</td>\n",
       "    </tr>\n",
       "    <tr>\n",
       "      <th>2808</th>\n",
       "      <td>30.4.2028</td>\n",
       "      <td>10:39:30</td>\n",
       "      <td>\"Vous aurez peut-être été surpris, Monsieur, d...</td>\n",
       "      <td>https://owncloud.gwdg.de/index.php/apps/files_...</td>\n",
       "    </tr>\n",
       "    <tr>\n",
       "      <th>2809</th>\n",
       "      <td>30.4.2028</td>\n",
       "      <td>18:45:47</td>\n",
       "      <td>\"Je reçois à l'instant votre lettre de la camp...</td>\n",
       "      <td>https://owncloud.gwdg.de/index.php/apps/files_...</td>\n",
       "    </tr>\n",
       "    <tr>\n",
       "      <th>2810</th>\n",
       "      <td>1.5.2028</td>\n",
       "      <td>10:24:30</td>\n",
       "      <td>\"J’ai bien tardé à répondre à votre dernière l...</td>\n",
       "      <td>https://owncloud.gwdg.de/index.php/apps/files_...</td>\n",
       "    </tr>\n",
       "    <tr>\n",
       "      <th>2811</th>\n",
       "      <td>1.5.2028</td>\n",
       "      <td>17:40:18</td>\n",
       "      <td>\"J'arrive d'Aix-la-Chapelle, Monsieur, où, com...</td>\n",
       "      <td>https://owncloud.gwdg.de/index.php/apps/files_...</td>\n",
       "    </tr>\n",
       "  </tbody>\n",
       "</table>\n",
       "<p>2812 rows × 4 columns</p>\n",
       "</div>"
      ]
     },
     "execution_count": 7,
     "metadata": {},
     "output_type": "execute_result"
    }
   ],
   "execution_count": 7
  },
  {
   "cell_type": "code",
   "id": "582cda32",
   "metadata": {
    "collapsed": false,
    "jupyter": {
     "outputs_hidden": false
    },
    "pycharm": {
     "name": "#%%\n"
    },
    "ExecuteTime": {
     "end_time": "2024-06-22T12:59:40.644133Z",
     "start_time": "2024-06-22T12:59:39.999484Z"
    }
   },
   "source": [
    "toots_df.to_excel(\"lib/Lettre_de_CdS.xlsx\")\n",
    "toots_df.to_csv(\"lib/Lettre_de_CdS.tsv\", encoding=\"utf8\", sep=\"\\t\")"
   ],
   "outputs": [],
   "execution_count": 8
  },
  {
   "cell_type": "markdown",
   "id": "7fe4020c",
   "metadata": {
    "pycharm": {
     "name": "#%% md\n"
    }
   },
   "source": [
    "## Creating Flashcards\n",
    "We start now with the Creation of the Flashcards based on the script found in the directory \"flash_cards\".\n",
    "The cards will be saved into the directory: \"flash_cards_png\"."
   ]
  },
  {
   "cell_type": "code",
   "id": "cc70c17d",
   "metadata": {
    "collapsed": false,
    "jupyter": {
     "outputs_hidden": false
    },
    "pycharm": {
     "name": "#%%\n"
    }
   },
   "source": [
    "day = (2021, 11, 26)\n",
    "toots_df = pd.DataFrame(columns=[\"Date\", \"Time\", \"Tweet\", \"Picture\", \"Longitude\", \"Lattitude\"])\n",
    "file = open('flash_cards/flashcard_cds.svg', encoding='utf8')\n",
    "svg_format = file.read()\n",
    "file.close()\n",
    "c = 0\n",
    "for i, v in df_cds.iterrows():\n",
    "    row = {}\n",
    "    if type(v[\"Datierung (JJJJ-MM-TT)\"]) is str:\n",
    "        tmp_date = v[\"Datierung (JJJJ-MM-TT)\"].split('-')\n",
    "        datierung = '{}.{}.{}'.format(tmp_date[2], tmp_date[1], tmp_date[0]) if len(tmp_date) > 0 else ''\n",
    "    text = str(v[\"Anfang des Briefes\"]).replace('\\n', '').replace('\\t', '').replace('  ', ' ').strip() + ' ...'\n",
    "    # flash_card_text = create_flashcard_text(text)\n",
    "    # flash_card = svg_format.format(text=flash_card_text,\n",
    "    #                                date=datierung,\n",
    "    #                                name='à ' + v[\" Empfänger\"].split(', ')[0] if type(v[\" Empfänger\"]) is str else 'N.N.')\n",
    "    # with open('flash_cards/CdS_Formal.svg', 'w', encoding='utf8') as f:\n",
    "    #     f.write(flash_card)\n",
    "\n",
    "    toot = '\"{0}...\" à {1}, {2} ({3})'.format(str(v[\"Anfang des Briefes\"]),\n",
    "                                            v[\" Empfänger\"].split(', ')[0] if type(v[\" Empfänger\"]) is str else 'N.N.',\n",
    "                                            v[\"Datierung (JJJJ-MM-TT)\"],\n",
    "                                            v[\"URL\"]).replace('\\n', '').replace('\\t', '').replace('  ', ' ').strip()\n",
    "    row[\"Tweet\"] = toot if len(toot) < 280 else 'Constance de Salm à {}, le {} ({})'.format(v[\" Empfänger\"].split(', ')[0] if type(v[\" Empfänger\"]) is str else 'N.N.',\n",
    "                                                                                              v[\"Datierung (JJJJ-MM-TT)\"],\n",
    "                                                                                              v[\"URL\"]).replace('\\n', '').replace('\\t', '').replace('  ', ' ').strip()\n",
    "    row[\"Date\"] = \"{}.{}.{}\".format(day[2], day[1], day[0])\n",
    "    time_toot = ''\n",
    "    h = np.random.randint(7, 21)\n",
    "    minute = np.random.randint(0, 59)\n",
    "    s = np.random.randint(0, 59)\n",
    "    h = str(h) if len(str(h)) == 2 else \"0\" + str(h)\n",
    "    minute = str(minute) if len(str(minute)) == 2 else \"0\" + str(minute)\n",
    "    s = str(s) if len(str(s)) == 2 else \"0\" + str(s)\n",
    "    row[\"Time\"] = f'{h}:{minute}:{s}'\n",
    "    if change == 1:\n",
    "        day = generate_next_day(day[2], day[1], day[0])\n",
    "        change = 0\n",
    "    else:\n",
    "        change += 1\n",
    "    row[\"Picture\"] = f'https://raw.githubusercontent.com/dhiparis/ConstanceDeSalm/main/CdS_Twitter/flash_cards/png/{v[\"FuD-Key\"]}.png'\n",
    "    toots_df = toots_df.append(row, ignore_index=True)\n",
    "    # convert_svg('flash_cards/CdS_Formal.svg', f'flash_cards/png/{v[\"FuD-Key\"]}.png')\n",
    "    c += 1\n",
    "    "
   ],
   "outputs": [],
   "execution_count": null
  },
  {
   "cell_type": "code",
   "id": "b9e91193-0698-40cb-a11d-fdc79fe18140",
   "metadata": {},
   "source": [],
   "outputs": [],
   "execution_count": null
  },
  {
   "cell_type": "code",
   "id": "d3759593-9944-47ad-aaec-c47867a5a1ea",
   "metadata": {},
   "source": [
    "toots_df.to_excel(\"lib/Lettre_de_CdS.xlsx\", encoding=\"utf8\")\n",
    "toots_df.to_csv(\"lib/Lettre_de_CdS.tsv\", encoding=\"utf8\", sep=\"\\t\")"
   ],
   "outputs": [],
   "execution_count": null
  },
  {
   "cell_type": "markdown",
   "id": "e7588150",
   "metadata": {
    "pycharm": {
     "name": "#%% md\n"
    }
   },
   "source": [
    "## Visualizing the Informations ##"
   ]
  },
  {
   "cell_type": "code",
   "id": "74690268",
   "metadata": {
    "collapsed": false,
    "jupyter": {
     "outputs_hidden": false
    },
    "pycharm": {
     "name": "#%%\n"
    }
   },
   "source": "import folium",
   "outputs": [],
   "execution_count": null
  },
  {
   "cell_type": "code",
   "id": "00a63316",
   "metadata": {
    "collapsed": false,
    "jupyter": {
     "outputs_hidden": false
    },
    "pycharm": {
     "name": "#%%\n"
    }
   },
   "source": [
    "m = folium.Map()\n",
    "geo_data = pd.read_csv(\"lib/CdS_Places.csv\", encoding=\"utf8\", index_col='id')\n",
    "\n",
    "for i, v in df_cds.iterrows():\n",
    "    geo_information = geo_data.loc[geo_data.url == v['Geonames (Ausstellungsort)']]\n",
    "    try:\n",
    "        lng = geo_information.iloc[0]['long']\n",
    "        lat = geo_information.iloc[0]['lat']\n",
    "        folium.Marker([lat, lng],\n",
    "                      popup=\"<i>à {}, le </i>\".format(v[\"Anfang des Briefes\"]),\n",
    "                      tooltip=\"à {}, le \".format(v[\" Empfänger\"].split(', ')[0] if type(v[\" Empfänger\"]) is str else 'N.N.', v[\"Datierung (JJJJ-MM-TT)\"])).add_to(m)\n",
    "    except IndexError:\n",
    "        pass"
   ],
   "outputs": [],
   "execution_count": null
  }
 ],
 "metadata": {
  "kernelspec": {
   "display_name": "Python 3 (ipykernel)",
   "language": "python",
   "name": "python3"
  },
  "language_info": {
   "codemirror_mode": {
    "name": "ipython",
    "version": 3
   },
   "file_extension": ".py",
   "mimetype": "text/x-python",
   "name": "python",
   "nbconvert_exporter": "python",
   "pygments_lexer": "ipython3",
   "version": "3.9.9"
  }
 },
 "nbformat": 4,
 "nbformat_minor": 5
}
